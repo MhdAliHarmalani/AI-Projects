{
  "cells": [
    {
      "cell_type": "code",
      "execution_count": null,
      "metadata": {
        "id": "8fe710ae-3cba-42a5-ad22-4937faf9739c"
      },
      "outputs": [],
      "source": [
        "import torch\n",
        "from torch import nn\n",
        "from torch import optim\n",
        "import torch.nn.functional\n",
        "from torchvision import datasets, transforms, models\n",
        "\n",
        "from collections import OrderedDict\n",
        "import csv \n",
        "import numpy as np\n",
        "import pandas as pd"
      ],
      "id": "8fe710ae-3cba-42a5-ad22-4937faf9739c"
    },
    {
      "cell_type": "markdown",
      "metadata": {
        "id": "kOurrDS3t4m7"
      },
      "source": [
        "# **Parameters of Opacus**"
      ],
      "id": "kOurrDS3t4m7"
    },
    {
      "cell_type": "code",
      "execution_count": null,
      "metadata": {
        "id": "PCaFOGuGpv49",
        "colab": {
          "base_uri": "https://localhost:8080/"
        },
        "outputId": "89b8799b-828f-418e-cc21-13814b7d8ba7"
      },
      "outputs": [
        {
          "output_type": "stream",
          "name": "stdout",
          "text": [
            "Looking in indexes: https://pypi.org/simple, https://us-python.pkg.dev/colab-wheels/public/simple/\n",
            "Collecting opacus\n",
            "  Downloading opacus-1.1.2-py3-none-any.whl (176 kB)\n",
            "\u001b[K     |████████████████████████████████| 176 kB 4.9 MB/s \n",
            "\u001b[?25hRequirement already satisfied: torch>=1.8 in /usr/local/lib/python3.7/dist-packages (from opacus) (1.11.0+cu113)\n",
            "Requirement already satisfied: scipy>=1.2 in /usr/local/lib/python3.7/dist-packages (from opacus) (1.4.1)\n",
            "Requirement already satisfied: numpy>=1.15 in /usr/local/lib/python3.7/dist-packages (from opacus) (1.21.6)\n",
            "Requirement already satisfied: typing-extensions in /usr/local/lib/python3.7/dist-packages (from torch>=1.8->opacus) (4.2.0)\n",
            "Installing collected packages: opacus\n",
            "Successfully installed opacus-1.1.2\n"
          ]
        }
      ],
      "source": [
        "!pip install opacus"
      ],
      "id": "PCaFOGuGpv49"
    },
    {
      "cell_type": "code",
      "execution_count": null,
      "metadata": {
        "id": "c3d0ebd2-ab1f-4589-8b02-8661d59d0d5e"
      },
      "outputs": [],
      "source": [
        "import warnings\n",
        "warnings.simplefilter(\"ignore\")\n",
        "\n",
        "MAX_GRAD_NORM = 1.2\n",
        "EPSILON = 1.0\n",
        "DELTA = 1e-5\n",
        "EPOCHS = 2\n",
        "\n",
        "LR = 1e-3"
      ],
      "id": "c3d0ebd2-ab1f-4589-8b02-8661d59d0d5e"
    },
    {
      "cell_type": "code",
      "execution_count": null,
      "metadata": {
        "id": "ede87eb7-ec5a-4f3c-a13f-4c99ffdaed7c"
      },
      "outputs": [],
      "source": [
        "# BATCH_SIZE = 512\n",
        "# MAX_PHYSICAL_BATCH_SIZE = 128\n",
        "BATCH_SIZE = 128\n",
        "MAX_PHYSICAL_BATCH_SIZE = 8"
      ],
      "id": "ede87eb7-ec5a-4f3c-a13f-4c99ffdaed7c"
    },
    {
      "cell_type": "markdown",
      "metadata": {
        "id": "VPyeaWD3unEI"
      },
      "source": [
        "# **Get the Owner's Dataset**"
      ],
      "id": "VPyeaWD3unEI"
    },
    {
      "cell_type": "code",
      "execution_count": null,
      "metadata": {
        "id": "x0QNlXRSN7ah"
      },
      "outputs": [],
      "source": [
        "import torch\n",
        "import torchvision\n",
        "import torchvision.transforms as transforms\n",
        "\n",
        "transform = transforms.Compose([\n",
        "                               transforms.Resize(size=32),\n",
        "                               transforms.Grayscale(num_output_channels=3),\n",
        "                               transforms.ToTensor(),\n",
        "                               transforms.Normalize(mean=[0.485, 0.456, 0.406],\n",
        "                                 std=[0.229, 0.224, 0.225])\n",
        "                             ])"
      ],
      "id": "x0QNlXRSN7ah"
    },
    {
      "cell_type": "code",
      "execution_count": null,
      "metadata": {
        "colab": {
          "base_uri": "https://localhost:8080/",
          "height": 457,
          "referenced_widgets": [
            "89e5c1ec6a944f3494ac4208190a2e87",
            "4eeb678a94a54646bcfb7cd21ab81cd7",
            "af1e68e112f947c0b3c4b1fd08515cc4",
            "1342d9c3e41b4889a8b179da24f3bee4",
            "142b48de9965419b8f4c78b3dab01a83",
            "89d6822dc8f34919828c118e30c06c3b",
            "0f271b25c2d6400a9e65e6dc07b803c2",
            "4ca3c6fea00644238f326e75dad9ca62",
            "562057968ca74cad92d131c6254d7cf1",
            "2702b651d2cf45cdaad4a97722343d95",
            "240bca0458894ec288a0604c9e8f5f54",
            "4c14e5a1c59f4b2dadce9df3968be06f",
            "385c7382f33a418daac3d9fe683732df",
            "ecee334811564743ba8b8d825330094a",
            "a989c664b75243a6af3ff5526908bd06",
            "a39376233a54451c856950b0074e7596",
            "eb9a0b7b063b4bc1a608e8dc3391ea12",
            "df48209f04944dcd863d58b10ae86a0d",
            "30f8be95e4d4423b8dd2de36e7ea598c",
            "b679f693eff0481f965dd0b127374dfb",
            "70c88d090f15486cbade422e2c6cc518",
            "9c69eef22bab4b77ac804a6d397505b0",
            "937b71cf2bf3421daf56427ed2044142",
            "9bc457216f2c4c4c9804d7a5afdbe867",
            "d8e6196c671446a4bff248f423ca8a4b",
            "1c3201b8006342f58935e4a482d56e68",
            "f18a69b6d0b9453b942671ed8a79e0fb",
            "c5e602593a614fa8b36c2245a033e384",
            "05a7a4a581864ca7b3b8758a88c8d834",
            "a59240492ee04a76bfe23b76fa6785bb",
            "10e1c589505a40f38a808e3ef6922a13",
            "b0123dc63d774de688fdc2dd8108f4c0",
            "ee4bf77f10444677abdd500f045bd4e7",
            "d616fbf3b68a416aa13ff182afe0c94e",
            "7e959ede0a8241369285eaea593c429f",
            "b0319493112e42eab3592b4715967d69",
            "46c6c317a48445df9a0edfdd9aa18bb5",
            "8a5bd14f9c644a1b8b57139bd22a599a",
            "a5f4e3eafef14ba89cfbe0d1bdb9d94c",
            "9ccda67bd1bc447b8e11af656abc0d82",
            "ca02c048389549fa8c6f3f659b1a39da",
            "96ddab6eeb454477b1acdf93fa80255b",
            "1cc0413a125346e38a52ec0ac386adc4",
            "dfd1d6c7f1764f32a3bb798276108d47"
          ]
        },
        "id": "Et7Pi5AFMK9e",
        "outputId": "c4e89012-6e2c-4acc-c41f-9916a0476e6a"
      },
      "outputs": [
        {
          "output_type": "stream",
          "name": "stdout",
          "text": [
            "Downloading http://yann.lecun.com/exdb/mnist/train-images-idx3-ubyte.gz\n",
            "Downloading http://yann.lecun.com/exdb/mnist/train-images-idx3-ubyte.gz to /files/MNIST/raw/train-images-idx3-ubyte.gz\n"
          ]
        },
        {
          "output_type": "display_data",
          "data": {
            "text/plain": [
              "  0%|          | 0/9912422 [00:00<?, ?it/s]"
            ],
            "application/vnd.jupyter.widget-view+json": {
              "version_major": 2,
              "version_minor": 0,
              "model_id": "89e5c1ec6a944f3494ac4208190a2e87"
            }
          },
          "metadata": {}
        },
        {
          "output_type": "stream",
          "name": "stdout",
          "text": [
            "Extracting /files/MNIST/raw/train-images-idx3-ubyte.gz to /files/MNIST/raw\n",
            "\n",
            "Downloading http://yann.lecun.com/exdb/mnist/train-labels-idx1-ubyte.gz\n",
            "Downloading http://yann.lecun.com/exdb/mnist/train-labels-idx1-ubyte.gz to /files/MNIST/raw/train-labels-idx1-ubyte.gz\n"
          ]
        },
        {
          "output_type": "display_data",
          "data": {
            "text/plain": [
              "  0%|          | 0/28881 [00:00<?, ?it/s]"
            ],
            "application/vnd.jupyter.widget-view+json": {
              "version_major": 2,
              "version_minor": 0,
              "model_id": "4c14e5a1c59f4b2dadce9df3968be06f"
            }
          },
          "metadata": {}
        },
        {
          "output_type": "stream",
          "name": "stdout",
          "text": [
            "Extracting /files/MNIST/raw/train-labels-idx1-ubyte.gz to /files/MNIST/raw\n",
            "\n",
            "Downloading http://yann.lecun.com/exdb/mnist/t10k-images-idx3-ubyte.gz\n",
            "Downloading http://yann.lecun.com/exdb/mnist/t10k-images-idx3-ubyte.gz to /files/MNIST/raw/t10k-images-idx3-ubyte.gz\n"
          ]
        },
        {
          "output_type": "display_data",
          "data": {
            "text/plain": [
              "  0%|          | 0/1648877 [00:00<?, ?it/s]"
            ],
            "application/vnd.jupyter.widget-view+json": {
              "version_major": 2,
              "version_minor": 0,
              "model_id": "937b71cf2bf3421daf56427ed2044142"
            }
          },
          "metadata": {}
        },
        {
          "output_type": "stream",
          "name": "stdout",
          "text": [
            "Extracting /files/MNIST/raw/t10k-images-idx3-ubyte.gz to /files/MNIST/raw\n",
            "\n",
            "Downloading http://yann.lecun.com/exdb/mnist/t10k-labels-idx1-ubyte.gz\n",
            "Downloading http://yann.lecun.com/exdb/mnist/t10k-labels-idx1-ubyte.gz to /files/MNIST/raw/t10k-labels-idx1-ubyte.gz\n"
          ]
        },
        {
          "output_type": "display_data",
          "data": {
            "text/plain": [
              "  0%|          | 0/4542 [00:00<?, ?it/s]"
            ],
            "application/vnd.jupyter.widget-view+json": {
              "version_major": 2,
              "version_minor": 0,
              "model_id": "d616fbf3b68a416aa13ff182afe0c94e"
            }
          },
          "metadata": {}
        },
        {
          "output_type": "stream",
          "name": "stdout",
          "text": [
            "Extracting /files/MNIST/raw/t10k-labels-idx1-ubyte.gz to /files/MNIST/raw\n",
            "\n"
          ]
        }
      ],
      "source": [
        "from torchvision.datasets import MNIST\n",
        "\n",
        "num_of_training_samples=60000\n",
        "num_of_testing_samples=10000\n",
        "\n",
        "DATA_ROOT = '/files/'\n",
        "\n",
        "train_dataset = torchvision.datasets.MNIST(DATA_ROOT, train=True, download=True,\n",
        "                             transform=transform\n",
        "                             )\n",
        "\n",
        "test_dataset = torchvision.datasets.MNIST(DATA_ROOT, train=False, download=True,\n",
        "                             transform=transform\n",
        "                             )\n",
        "\n",
        "train_loader = torch.utils.data.DataLoader(\n",
        "  train_dataset,\n",
        "  batch_size=BATCH_SIZE,\n",
        "  # batch_size=1,\n",
        "  shuffle=True)\n",
        "\n",
        "test_loader = torch.utils.data.DataLoader(\n",
        "  test_dataset,\n",
        "  batch_size=BATCH_SIZE, \n",
        "  # batch_size=1,\n",
        "  shuffle=True)"
      ],
      "id": "Et7Pi5AFMK9e"
    },
    {
      "cell_type": "code",
      "execution_count": null,
      "metadata": {
        "id": "wrlpLWD_aod2",
        "colab": {
          "base_uri": "https://localhost:8080/",
          "height": 285
        },
        "outputId": "f89bfe8e-2b49-4fcc-b8d8-64cbb9e2f43e"
      },
      "outputs": [
        {
          "output_type": "stream",
          "name": "stdout",
          "text": [
            "torch.Size([3, 32, 32])\n",
            "tensor(3)\n"
          ]
        },
        {
          "output_type": "display_data",
          "data": {
            "text/plain": [
              "<Figure size 432x288 with 1 Axes>"
            ],
            "image/png": "[encoded data removed]"
          },
          "metadata": {
            "needs_background": "light"
          }
        }
      ],
      "source": [
        "## load helper.py\n",
        "import helper\n",
        "sample = iter(train_loader)\n",
        "sample_img, sample_target = next(sample)\n",
        "print(sample_img[0,:].shape)\n",
        "helper.imshow(sample_img[0,:]);\n",
        "print(sample_target[0])"
      ],
      "id": "wrlpLWD_aod2"
    },
    {
      "cell_type": "markdown",
      "metadata": {
        "id": "b-9Ax9jlu_HD"
      },
      "source": [
        "# **Setup Vgg16 model**"
      ],
      "id": "b-9Ax9jlu_HD"
    },
    {
      "cell_type": "markdown",
      "metadata": {
        "id": "wyiMb7G8vZrj"
      },
      "source": [
        "Setup without Classifier"
      ],
      "id": "wyiMb7G8vZrj"
    },
    {
      "cell_type": "code",
      "execution_count": null,
      "metadata": {
        "id": "sDcheFZ6S39N"
      },
      "outputs": [],
      "source": [
        "# vgg_pretrained = models.vgg16(pretrained=True)"
      ],
      "id": "sDcheFZ6S39N"
    },
    {
      "cell_type": "code",
      "execution_count": null,
      "metadata": {
        "id": "BvueOJGMS7Lt"
      },
      "outputs": [],
      "source": [
        "# vgg_pretrained"
      ],
      "id": "BvueOJGMS7Lt"
    },
    {
      "cell_type": "code",
      "execution_count": null,
      "metadata": {
        "id": "EqcKALzCU5uf"
      },
      "outputs": [],
      "source": [
        "class VGG16(torch.nn.Module):\n",
        "  def __init__(self,pretrained=True):\n",
        "    super(VGG16, self).__init__()\n",
        "\n",
        "    # features layers:\n",
        "    vgg_pretrained_features = models.vgg16(pretrained=True).features\n",
        "    self.features = torch.nn.Sequential()\n",
        "    for i in range(31):\n",
        "      # print(vgg_pretrained_features[i])\n",
        "      self.features.add_module(str(i), vgg_pretrained_features[i])\n",
        "\n",
        "    # avgpool layer:\n",
        "    self.avgpool = models.vgg16(pretrained=True).avgpool\n",
        "\n",
        "    # # fully conected layers:\n",
        "    # self.fc6 = nn.Linear(7*7*512, 4096)\n",
        "    # self.fc7 = nn.Linear(4096, 4096)\n",
        "    # self.fc8 = nn.Linear(4096, 1000)\n",
        "\n",
        "  def forward(self, x):\n",
        "    x = self.features(x)\n",
        "    x = self.avgpool(x)\n",
        "    x = torch.flatten(x, 1)\n",
        "    return x\n",
        "    "
      ],
      "id": "EqcKALzCU5uf"
    },
    {
      "cell_type": "code",
      "execution_count": null,
      "metadata": {
        "colab": {
          "base_uri": "https://localhost:8080/",
          "height": 87,
          "referenced_widgets": [
            "5f5dd909d7e44137bc1d8b89999df6ba",
            "73592bc84bcf4a8ebaa7805acb73ed7e",
            "8e3ac17b78c74142bc08a91bce8f3259",
            "53bbffe6bce6415299da0f418cd7cdac",
            "de82008dd29f44308c66dde87bf5f4e4",
            "24eb768f6f27434aa115f55cfb2931f1",
            "399f1d6410aa4029a956da44a7c62e15",
            "7c2b539bf1404c64b658df0ced00b99a",
            "87c3176d731a4f85b80d8a9b6a5c41c3",
            "5c44db32856146609a3fff3bd387acc1",
            "e6f6be61f84f4c66932fe6d772766034"
          ]
        },
        "id": "kz1zBLJEZcyf",
        "outputId": "e732120e-fad5-4625-ebfb-83284e0cec69"
      },
      "outputs": [
        {
          "output_type": "stream",
          "name": "stderr",
          "text": [
            "Downloading: \"https://download.pytorch.org/models/vgg16-397923af.pth\" to /root/.cache/torch/hub/checkpoints/vgg16-397923af.pth\n"
          ]
        },
        {
          "output_type": "display_data",
          "data": {
            "text/plain": [
              "  0%|          | 0.00/528M [00:00<?, ?B/s]"
            ],
            "application/vnd.jupyter.widget-view+json": {
              "version_major": 2,
              "version_minor": 0,
              "model_id": "5f5dd909d7e44137bc1d8b89999df6ba"
            }
          },
          "metadata": {}
        }
      ],
      "source": [
        "vgg16 = VGG16()"
      ],
      "id": "kz1zBLJEZcyf"
    },
    {
      "cell_type": "code",
      "execution_count": null,
      "metadata": {
        "colab": {
          "base_uri": "https://localhost:8080/"
        },
        "id": "4H2QRvU1Zsmt",
        "outputId": "20985cc9-bb00-4d1f-8928-bb743557df2e"
      },
      "outputs": [
        {
          "output_type": "execute_result",
          "data": {
            "text/plain": [
              "VGG16(\n",
              "  (features): Sequential(\n",
              "    (0): Conv2d(3, 64, kernel_size=(3, 3), stride=(1, 1), padding=(1, 1))\n",
              "    (1): ReLU(inplace=True)\n",
              "    (2): Conv2d(64, 64, kernel_size=(3, 3), stride=(1, 1), padding=(1, 1))\n",
              "    (3): ReLU(inplace=True)\n",
              "    (4): MaxPool2d(kernel_size=2, stride=2, padding=0, dilation=1, ceil_mode=False)\n",
              "    (5): Conv2d(64, 128, kernel_size=(3, 3), stride=(1, 1), padding=(1, 1))\n",
              "    (6): ReLU(inplace=True)\n",
              "    (7): Conv2d(128, 128, kernel_size=(3, 3), stride=(1, 1), padding=(1, 1))\n",
              "    (8): ReLU(inplace=True)\n",
              "    (9): MaxPool2d(kernel_size=2, stride=2, padding=0, dilation=1, ceil_mode=False)\n",
              "    (10): Conv2d(128, 256, kernel_size=(3, 3), stride=(1, 1), padding=(1, 1))\n",
              "    (11): ReLU(inplace=True)\n",
              "    (12): Conv2d(256, 256, kernel_size=(3, 3), stride=(1, 1), padding=(1, 1))\n",
              "    (13): ReLU(inplace=True)\n",
              "    (14): Conv2d(256, 256, kernel_size=(3, 3), stride=(1, 1), padding=(1, 1))\n",
              "    (15): ReLU(inplace=True)\n",
              "    (16): MaxPool2d(kernel_size=2, stride=2, padding=0, dilation=1, ceil_mode=False)\n",
              "    (17): Conv2d(256, 512, kernel_size=(3, 3), stride=(1, 1), padding=(1, 1))\n",
              "    (18): ReLU(inplace=True)\n",
              "    (19): Conv2d(512, 512, kernel_size=(3, 3), stride=(1, 1), padding=(1, 1))\n",
              "    (20): ReLU(inplace=True)\n",
              "    (21): Conv2d(512, 512, kernel_size=(3, 3), stride=(1, 1), padding=(1, 1))\n",
              "    (22): ReLU(inplace=True)\n",
              "    (23): MaxPool2d(kernel_size=2, stride=2, padding=0, dilation=1, ceil_mode=False)\n",
              "    (24): Conv2d(512, 512, kernel_size=(3, 3), stride=(1, 1), padding=(1, 1))\n",
              "    (25): ReLU(inplace=True)\n",
              "    (26): Conv2d(512, 512, kernel_size=(3, 3), stride=(1, 1), padding=(1, 1))\n",
              "    (27): ReLU(inplace=True)\n",
              "    (28): Conv2d(512, 512, kernel_size=(3, 3), stride=(1, 1), padding=(1, 1))\n",
              "    (29): ReLU(inplace=True)\n",
              "    (30): MaxPool2d(kernel_size=2, stride=2, padding=0, dilation=1, ceil_mode=False)\n",
              "  )\n",
              "  (avgpool): AdaptiveAvgPool2d(output_size=(7, 7))\n",
              ")"
            ]
          },
          "metadata": {},
          "execution_count": 10
        }
      ],
      "source": [
        "features_model=vgg16\n",
        "num_output_features=7*7*512\n",
        "features_model"
      ],
      "id": "4H2QRvU1Zsmt"
    },
    {
      "cell_type": "code",
      "execution_count": null,
      "metadata": {
        "id": "37b94d0c-f9eb-4100-ba36-c97275aa862b"
      },
      "outputs": [],
      "source": [
        "for param in features_model.parameters():\n",
        "    features_model.requires_grad = False\n",
        "features_model.eval();"
      ],
      "id": "37b94d0c-f9eb-4100-ba36-c97275aa862b"
    },
    {
      "cell_type": "code",
      "execution_count": null,
      "metadata": {
        "colab": {
          "base_uri": "https://localhost:8080/"
        },
        "id": "55d14d36-851c-4f41-baa8-21cb3ba76974",
        "outputId": "b830986d-bebe-4003-d052-1c49ef4083aa"
      },
      "outputs": [
        {
          "output_type": "stream",
          "name": "stdout",
          "text": [
            "cpu\n"
          ]
        }
      ],
      "source": [
        "device = torch.device(\"cuda\" if torch.cuda.is_available() else \"cpu\")\n",
        "print(device)\n",
        "features_model = features_model.to(device)"
      ],
      "id": "55d14d36-851c-4f41-baa8-21cb3ba76974"
    },
    {
      "cell_type": "markdown",
      "metadata": {
        "id": "QevBSRMIQAn3"
      },
      "source": [
        "# **Get The Features & Labels of training set for Data Scientist** \n"
      ],
      "id": "QevBSRMIQAn3"
    },
    {
      "cell_type": "code",
      "source": [
        "# from google.colab import drive\n",
        "# drive.mount('/content/drive')"
      ],
      "metadata": {
        "colab": {
          "base_uri": "https://localhost:8080/"
        },
        "id": "H2h_u1Hynofu",
        "outputId": "df352ae7-ff63-4212-9b70-e0620fa16c22"
      },
      "id": "H2h_u1Hynofu",
      "execution_count": null,
      "outputs": [
        {
          "output_type": "stream",
          "name": "stdout",
          "text": [
            "Mounted at /content/drive\n"
          ]
        }
      ]
    },
    {
      "cell_type": "code",
      "execution_count": null,
      "metadata": {
        "id": "iqDTohUOx6FZ",
        "colab": {
          "base_uri": "https://localhost:8080/"
        },
        "outputId": "2a92030c-7a0b-40a7-be02-f8b4a3814762"
      },
      "outputs": [
        {
          "output_type": "stream",
          "name": "stdout",
          "text": [
            "mkdir: cannot create directory ‘../content/drive/MyDrive/ColabNotebooks/FinalProject/train/’: File exists\n"
          ]
        }
      ],
      "source": [
        "# !mkdir ../content/drive/MyDrive/ColabNotebooks/FinalProject/train/\n",
        "# num_of_TRfiles=num_of_training_samples\n",
        "# pathTr=[]\n",
        "# for f in range(num_of_TRfiles):\n",
        "#   pathTr.append(\"../content/drive/MyDrive/ColabNotebooks/FinalProject/train/featuresAndLabels_training{}.npy\".format(f))"
      ],
      "id": "iqDTohUOx6FZ"
    },
    {
      "cell_type": "code",
      "source": [
        "!mkdir ../content/train/\n",
        "num_of_TRfiles=num_of_training_samples\n",
        "pathTr=[]\n",
        "for f in range(num_of_TRfiles):\n",
        "  pathTr.append(\"../content/train/featuresAndLabels_training{}.npy\".format(f))"
      ],
      "metadata": {
        "id": "7wohc4kTz0ix"
      },
      "id": "7wohc4kTz0ix",
      "execution_count": null,
      "outputs": []
    },
    {
      "cell_type": "code",
      "execution_count": null,
      "metadata": {
        "colab": {
          "base_uri": "https://localhost:8080/"
        },
        "id": "ZtlGkthavzU3",
        "outputId": "1ea53c33-0ef9-4be9-88ea-958d02125d9d"
      },
      "outputs": [
        {
          "output_type": "stream",
          "name": "stdout",
          "text": [
            "num_of_batches_in_one_file:  1\n",
            "move to file: 5000\n",
            "move to file: 10000\n",
            "move to file: 15000\n",
            "move to file: 20000\n",
            "move to file: 25000\n",
            "move to file: 30000\n",
            "move to file: 35000\n",
            "move to file: 40000\n",
            "move to file: 45000\n",
            "move to file: 50000\n",
            "move to file: 55000\n",
            "move to file: 60000\n"
          ]
        }
      ],
      "source": [
        "#num_of_training_samples=60000\n",
        "num_of_files=len(pathTr)\n",
        "# num_of_batches_in_one_file= int(int(num_of_training_samples / BATCH_SIZE) /  num_of_files)\n",
        "num_of_batches_in_one_file= int(int(num_of_training_samples / 1) /  num_of_files)\n",
        "\n",
        "print (\"num_of_batches_in_one_file: \", num_of_batches_in_one_file)\n",
        "dl_iter=iter(train_loader)\n",
        "# j=0\n",
        "\n",
        "with torch.no_grad():\n",
        "  features_model.eval()\n",
        "  num_of_file=0  \n",
        "  while(num_of_file<num_of_files):\n",
        "    j=0\n",
        "    while( (j) % num_of_batches_in_one_file != 0 or num_of_file==len(pathTr)-1 or j==0):\n",
        "        try:\n",
        "          images, target = next(dl_iter)\n",
        "        except StopIteration:\n",
        "          break\n",
        "        # print(\"j=\",j)\n",
        "        images = images.to(device)\n",
        "        target = target.to(device)\n",
        "        \n",
        "        target = target.cpu().detach().numpy()\n",
        "        target=np.expand_dims(target, axis=0)\n",
        "        \n",
        "        pridict = features_model(images)\n",
        "        pridict= pridict.cpu().detach().numpy()\n",
        "        pridict= np.squeeze(pridict,axis=None)\n",
        "        featuresAndLabels=np.concatenate((pridict, target.T), axis=1)###simulate it to sure validation of concatenate\n",
        "        # featuresAndLabels=np.concatenate((pridict, target))\n",
        "        # print(featuresAndLabels.shape[0])\n",
        "        for i in range(featuresAndLabels.shape[0]):\n",
        "            np.save(pathTr[num_of_file], featuresAndLabels[i:i+1,:])\n",
        "            num_of_file = num_of_file + 1\n",
        "            if((num_of_file)%5000==0):\n",
        "              print(\"move to file:\" , num_of_file)\n",
        "              # break          \n",
        "        j+=1\n",
        "\n",
        "        "
      ],
      "id": "ZtlGkthavzU3"
    },
    {
      "cell_type": "code",
      "source": [
        "# !cp -r ../content/train/ ../content/drive/MyDrive/ColabNotebooks/FinalProject"
      ],
      "metadata": {
        "id": "AiTGmqYawIrI"
      },
      "id": "AiTGmqYawIrI",
      "execution_count": null,
      "outputs": []
    },
    {
      "cell_type": "code",
      "execution_count": null,
      "metadata": {
        "id": "UT8gcrg1aNwL"
      },
      "outputs": [],
      "source": [
        "# y=np.load(pathTr[0])\n",
        "# y.shape"
      ],
      "id": "UT8gcrg1aNwL"
    },
    {
      "cell_type": "markdown",
      "metadata": {
        "id": "T_2ZOKk3RZ3o"
      },
      "source": [
        "# **Get The Features & Labels of testing set for Data Scientist** \n"
      ],
      "id": "T_2ZOKk3RZ3o"
    },
    {
      "cell_type": "code",
      "execution_count": null,
      "metadata": {
        "id": "RZbGuH1p8Dud"
      },
      "outputs": [],
      "source": [
        "# !mkdir ../content/drive/MyDrive/ColabNotebooks/FinalProject/test/\n",
        "# num_of_TSfiles=num_of_testing_samples\n",
        "# pathTs=[]\n",
        "# for f in range(num_of_TSfiles):\n",
        "#   pathTs.append(\"../content/drive/MyDrive/ColabNotebooks/FinalProject/test/featuresAndLabels_testing{}.npy\".format(f))"
      ],
      "id": "RZbGuH1p8Dud"
    },
    {
      "cell_type": "code",
      "source": [
        "!mkdir ../content/test/\n",
        "num_of_TSfiles=num_of_testing_samples\n",
        "pathTs=[]\n",
        "for f in range(num_of_TSfiles):\n",
        "  pathTs.append(\"../content/test/featuresAndLabels_testing{}.npy\".format(f))"
      ],
      "metadata": {
        "id": "DiTU5YoN0M4v"
      },
      "id": "DiTU5YoN0M4v",
      "execution_count": null,
      "outputs": []
    },
    {
      "cell_type": "code",
      "execution_count": null,
      "metadata": {
        "colab": {
          "base_uri": "https://localhost:8080/"
        },
        "id": "RjwwlptazBjp",
        "outputId": "fcb40413-9b0b-49f2-e9f6-5040053388e3"
      },
      "outputs": [
        {
          "output_type": "stream",
          "name": "stdout",
          "text": [
            "num_of_batches_in_one_file:  1\n",
            "move to file: 5000\n",
            "move to file: 10000\n"
          ]
        }
      ],
      "source": [
        "num_of_files=len(pathTs)\n",
        "#num_of_testing_samples=10000\n",
        "# num_of_batches_in_one_file= int(int(num_of_testing_samples / BATCH_SIZE) /  num_of_files)\n",
        "num_of_batches_in_one_file= int(int(num_of_testing_samples / 1) /  num_of_files)\n",
        "\n",
        "print (\"num_of_batches_in_one_file: \", num_of_batches_in_one_file)\n",
        "dl_iter=iter(test_loader)\n",
        "# j=0\n",
        "\n",
        "with torch.no_grad():\n",
        "  features_model.eval()\n",
        "  num_of_file=0  \n",
        "  while(num_of_file<num_of_files):\n",
        "    j=0\n",
        "    while( (j) % num_of_batches_in_one_file != 0 or num_of_file==len(pathTs)-1 or j==0):\n",
        "        try:\n",
        "          images, target = next(dl_iter)\n",
        "        except StopIteration:\n",
        "          break\n",
        "        # print(\"j=\",j)\n",
        "        images = images.to(device)\n",
        "        target = target.to(device)\n",
        "        \n",
        "        target = target.cpu().detach().numpy()\n",
        "        target=np.expand_dims(target, axis=0)\n",
        "        \n",
        "        pridict = features_model(images)\n",
        "        pridict= pridict.cpu().detach().numpy()\n",
        "        pridict= np.squeeze(pridict,axis=None)\n",
        "        featuresAndLabels=np.concatenate((pridict, target.T), axis=1)###simulate it to sure validation of concatenate\n",
        "        # featuresAndLabels=np.concatenate((pridict, target))\n",
        "\n",
        "        for i in range(featuresAndLabels.shape[0]):\n",
        "            np.save(pathTs[num_of_file], featuresAndLabels[i:i+1,:])\n",
        "            num_of_file = num_of_file + 1\n",
        "            if((num_of_file)%5000==0):\n",
        "              print(\"move to file:\" , num_of_file)\n",
        "        j+=1 "
      ],
      "id": "RjwwlptazBjp"
    },
    {
      "cell_type": "code",
      "source": [
        "# !cp -r ../content/test ../content/drive/MyDrive/ColabNotebooks/FinalProject"
      ],
      "metadata": {
        "id": "xQXHVBRzuvSn"
      },
      "id": "xQXHVBRzuvSn",
      "execution_count": null,
      "outputs": []
    },
    {
      "cell_type": "code",
      "execution_count": null,
      "metadata": {
        "id": "U9Ou_7SRLvXr"
      },
      "outputs": [],
      "source": [
        "features_model = features_model.to(\"cpu\")"
      ],
      "id": "U9Ou_7SRLvXr"
    },
    {
      "cell_type": "code",
      "execution_count": null,
      "metadata": {
        "id": "rKRaXtACQITG"
      },
      "outputs": [],
      "source": [
        "torch.cuda.empty_cache()"
      ],
      "id": "rKRaXtACQITG"
    },
    {
      "cell_type": "code",
      "execution_count": null,
      "metadata": {
        "id": "WnROP3SSMoS2"
      },
      "outputs": [],
      "source": [
        "import os\n",
        "import pandas as pd\n",
        "from skimage import io\n",
        "from torch.utils.data import (\n",
        "    Dataset,\n",
        "    DataLoader,\n",
        ")  # Gives easier dataset managment and creates mini batches"
      ],
      "id": "WnROP3SSMoS2"
    },
    {
      "cell_type": "code",
      "execution_count": null,
      "metadata": {
        "id": "1fh32PflIeAe"
      },
      "outputs": [],
      "source": [
        "class featuresAndLabels(Dataset):\n",
        "    def __init__(self, path, transform=None):\n",
        "        self.path = path\n",
        "        self.num_of_files = len(self.path)\n",
        "        self.transform = transform\n",
        "        self.device = torch.device(\"cuda\" if torch.cuda.is_available() else \"cpu\")\n",
        "        self.len_dataset = len(self.path)\n",
        "        self.num_of_batches_in_one_file = int(int(self.len_dataset / 1) /  self.num_of_files)\n",
        "        print(\"init, \", \"len_dataset= \", self.len_dataset , \" in \" , self.num_of_files ,\" files\")\n",
        "       \n",
        "\n",
        "\n",
        "    def __len__(self):\n",
        "        print(\"I count the length\")\n",
        "        if (self.len_dataset % 1 == 0):\n",
        "          return ((int(self.len_dataset / 1))) #to keep in range of data by dataset_batch_size\n",
        "        else:\n",
        "          return ((int(self.len_dataset / 1)) + 1) #to take all data after last_index\n",
        "\n",
        "\n",
        "    def __getitem__(self, index):\n",
        "        n_of_file = index\n",
        "        row = np.load(self.path[n_of_file]) # skip all data before index\n",
        "        # row = torch.from_numpy(row).float().to(self.device)\n",
        "        row = torch.from_numpy(row).float()\n",
        "        row = torch.squeeze(row)\n",
        "        image= row[:-1]\n",
        "        y_label = row[-1:]\n",
        "        return (image, y_label)\n",
        "\n"
      ],
      "id": "1fh32PflIeAe"
    },
    {
      "cell_type": "markdown",
      "metadata": {
        "id": "GUng8FGR3Qv7"
      },
      "source": [
        "## Load Data"
      ],
      "id": "GUng8FGR3Qv7"
    },
    {
      "cell_type": "code",
      "execution_count": null,
      "metadata": {
        "colab": {
          "base_uri": "https://localhost:8080/"
        },
        "id": "Oe4FW1_eukL1",
        "outputId": "e374d414-4936-440a-dec1-d750ec1489ed"
      },
      "outputs": [
        {
          "output_type": "stream",
          "name": "stdout",
          "text": [
            "init,  len_dataset=  60000  in  60000  files\n"
          ]
        }
      ],
      "source": [
        "featuresAndLabels_training_dataset = featuresAndLabels(path=pathTr)"
      ],
      "id": "Oe4FW1_eukL1"
    },
    {
      "cell_type": "code",
      "execution_count": null,
      "metadata": {
        "colab": {
          "base_uri": "https://localhost:8080/"
        },
        "id": "o8d1bVtJMzaw",
        "outputId": "062fb503-b6e1-49a0-eff7-5ab0e00c1c1a"
      },
      "outputs": [
        {
          "output_type": "stream",
          "name": "stdout",
          "text": [
            "init,  len_dataset=  10000  in  10000  files\n"
          ]
        }
      ],
      "source": [
        "featuresAndLabels_testing_dataset = featuresAndLabels(path=pathTs)"
      ],
      "id": "o8d1bVtJMzaw"
    },
    {
      "cell_type": "code",
      "execution_count": null,
      "metadata": {
        "id": "QEoU0nCSF7DM"
      },
      "outputs": [],
      "source": [
        "# y=[]\n",
        "# for i in range(128):\n",
        "#   y.append(featuresAndLabels_training_dataset.__getitem__(i))"
      ],
      "id": "QEoU0nCSF7DM"
    },
    {
      "cell_type": "code",
      "execution_count": null,
      "metadata": {
        "colab": {
          "base_uri": "https://localhost:8080/"
        },
        "id": "ro91dsbSf3es",
        "outputId": "48498863-9f77-4e0b-a530-ba148987e18a"
      },
      "outputs": [
        {
          "output_type": "stream",
          "name": "stdout",
          "text": [
            "I count the length\n",
            "I count the length\n",
            "I count the length\n",
            "I count the length\n"
          ]
        }
      ],
      "source": [
        "train_features_loader = torch.utils.data.DataLoader(\n",
        "    featuresAndLabels_training_dataset,\n",
        "    batch_size=BATCH_SIZE,\n",
        "    # batch_size=1,\n",
        "    shuffle=True,\n",
        ")\n",
        "\n",
        "test_features_loader = torch.utils.data.DataLoader(\n",
        "    featuresAndLabels_testing_dataset,\n",
        "    batch_size=BATCH_SIZE,\n",
        "    # batch_size=1,\n",
        "    shuffle=True,\n",
        ")"
      ],
      "id": "ro91dsbSf3es"
    },
    {
      "cell_type": "markdown",
      "metadata": {
        "id": "D0OGD_Fcwxrx"
      },
      "source": [
        "## **Setup The Classifier model**"
      ],
      "id": "D0OGD_Fcwxrx"
    },
    {
      "cell_type": "code",
      "execution_count": null,
      "metadata": {
        "id": "87RAqQM3kiqd"
      },
      "outputs": [],
      "source": [
        "in_dim = num_output_features\n",
        "out_dim = 10\n",
        "\n",
        "class Classifier(torch.nn.Module):\n",
        "    def __init__(self):\n",
        "        super(Classifier, self).__init__() \n",
        "        # self.avgpool = nn.AdaptiveAvgPool2d((1,1))\n",
        "        self.fc1 = nn.Linear(in_dim, 4096)\n",
        "        # self.fc2 = nn.Linear(4096, 4096)\n",
        "        self.fc3 = nn.Linear(4096, out_dim)\n",
        "        self.dropout =  nn.Dropout(p=0.2)\n",
        "\n",
        "    def forward(self, x):\n",
        "      # x = self.avgpool(x)\n",
        "      x = self.fc1(x)\n",
        "      x = torch.sigmoid(x)\n",
        "      x = self.dropout(x)\n",
        "\n",
        "\n",
        "      # x = self.fc2(x)\n",
        "      # x = nn.functional.relu(x)\n",
        "      # x = self.dropout(x)\n",
        "\n",
        "      output = self.fc3(x)\n",
        "      # x = nn.functional.log_softmax(x)\n",
        "      # x = self.dropout(x)\n",
        "\n",
        "      # output = nn.functional.sigmoid(x)\n",
        "\n",
        "      # output = nn.functional.log_softmax(x, dim=1)\n",
        "      return output"
      ],
      "id": "87RAqQM3kiqd"
    },
    {
      "cell_type": "code",
      "execution_count": null,
      "metadata": {
        "colab": {
          "base_uri": "https://localhost:8080/"
        },
        "id": "a5a5017e-47b5-4e96-ba50-bd4a9dab3e5a",
        "outputId": "5fe78165-beb1-4f2d-f97d-3f0ea45823a3"
      },
      "outputs": [
        {
          "output_type": "execute_result",
          "data": {
            "text/plain": [
              "Classifier(\n",
              "  (fc1): Linear(in_features=25088, out_features=4096, bias=True)\n",
              "  (fc3): Linear(in_features=4096, out_features=10, bias=True)\n",
              "  (dropout): Dropout(p=0.2, inplace=False)\n",
              ")"
            ]
          },
          "metadata": {},
          "execution_count": 14
        }
      ],
      "source": [
        "classifier_model_noPrivate = Classifier()\n",
        "classifier_model_noPrivate"
      ],
      "id": "a5a5017e-47b5-4e96-ba50-bd4a9dab3e5a"
    },
    {
      "cell_type": "code",
      "execution_count": null,
      "metadata": {
        "id": "4edcca0c-c190-4efa-a335-eac6a9e2ba36",
        "colab": {
          "base_uri": "https://localhost:8080/"
        },
        "outputId": "889aecc7-c37b-411a-da4b-d0b55f01086b"
      },
      "outputs": [
        {
          "output_type": "execute_result",
          "data": {
            "text/plain": [
              "[]"
            ]
          },
          "metadata": {},
          "execution_count": 29
        }
      ],
      "source": [
        "import opacus\n",
        "from opacus.validators import ModuleValidator\n",
        "\n",
        "errors = ModuleValidator.validate(classifier_model_noPrivate, strict=False)\n",
        "errors[-5:]"
      ],
      "id": "4edcca0c-c190-4efa-a335-eac6a9e2ba36"
    },
    {
      "cell_type": "code",
      "execution_count": null,
      "metadata": {
        "id": "d747281c-8ca4-445f-977d-36469fd976b3",
        "colab": {
          "base_uri": "https://localhost:8080/"
        },
        "outputId": "79521f07-f20c-42a2-a1aa-238975a65695"
      },
      "outputs": [
        {
          "output_type": "execute_result",
          "data": {
            "text/plain": [
              "[]"
            ]
          },
          "metadata": {},
          "execution_count": 30
        }
      ],
      "source": [
        "classifier_model_noPrivate = ModuleValidator.fix(classifier_model_noPrivate)\n",
        "ModuleValidator.validate(classifier_model_noPrivate, strict=False)"
      ],
      "id": "d747281c-8ca4-445f-977d-36469fd976b3"
    },
    {
      "cell_type": "code",
      "execution_count": null,
      "metadata": {
        "id": "172ee9b9-3bb6-4583-84b2-a18243f6ff8e"
      },
      "outputs": [],
      "source": [
        "import torch.nn as nn\n",
        "import torch.optim as optim\n",
        "\n",
        "criterion = nn.CrossEntropyLoss()\n",
        "opt_c_noPrivate = optim.RMSprop(classifier_model_noPrivate.parameters(), lr=LR)"
      ],
      "id": "172ee9b9-3bb6-4583-84b2-a18243f6ff8e"
    },
    {
      "cell_type": "code",
      "execution_count": null,
      "metadata": {
        "colab": {
          "base_uri": "https://localhost:8080/"
        },
        "id": "9SDekdf1iC94",
        "outputId": "718520b1-ebd6-4d85-9f3d-dc20c0882361"
      },
      "outputs": [
        {
          "output_type": "stream",
          "name": "stdout",
          "text": [
            "cpu\n"
          ]
        }
      ],
      "source": [
        "device = torch.device(\"cuda\" if torch.cuda.is_available() else \"cpu\")\n",
        "# device=\"cpu\"\n",
        "print(device)\n",
        "classifier_model_noPrivate = classifier_model_noPrivate.to(device)"
      ],
      "id": "9SDekdf1iC94"
    },
    {
      "cell_type": "code",
      "execution_count": null,
      "metadata": {
        "id": "RNbq8D-aiZlu"
      },
      "outputs": [],
      "source": [
        "def accuracy(preds, labels):\n",
        "    return (preds == labels).mean()"
      ],
      "id": "RNbq8D-aiZlu"
    },
    {
      "cell_type": "markdown",
      "metadata": {
        "id": "sDi0Pf14xRcv"
      },
      "source": [
        "## **Setup The Privacy Engine**"
      ],
      "id": "sDi0Pf14xRcv"
    },
    {
      "cell_type": "code",
      "execution_count": null,
      "metadata": {
        "id": "K91xQAbWiwDy",
        "colab": {
          "base_uri": "https://localhost:8080/"
        },
        "outputId": "1daa02bc-19a0-4dee-fc11-84bd61c00fbc"
      },
      "outputs": [
        {
          "output_type": "stream",
          "name": "stdout",
          "text": [
            "I count the length\n",
            "I count the length\n",
            "I count the length\n",
            "I count the length\n",
            "Using sigma=0.9228515625 and C=1.2\n"
          ]
        }
      ],
      "source": [
        "from opacus import PrivacyEngine\n",
        "\n",
        "privacy_engine = PrivacyEngine()\n",
        "\n",
        "modelDP, optimizerDP, train_loaderDP = privacy_engine.make_private_with_epsilon(\n",
        "    module=classifier_model_noPrivate,\n",
        "    optimizer=opt_c_noPrivate,\n",
        "    data_loader=train_features_loader,\n",
        "    epochs=EPOCHS,\n",
        "    target_epsilon=EPSILON,\n",
        "    target_delta=DELTA,\n",
        "    max_grad_norm=MAX_GRAD_NORM,\n",
        ")\n",
        "\n",
        "print(f\"Using sigma={optimizerDP.noise_multiplier} and C={MAX_GRAD_NORM}\")"
      ],
      "id": "K91xQAbWiwDy"
    },
    {
      "cell_type": "code",
      "execution_count": null,
      "metadata": {
        "colab": {
          "base_uri": "https://localhost:8080/"
        },
        "id": "WF_MPEkqyNsN",
        "outputId": "cc29d57d-e1ff-4316-f4a3-6a194743a3eb"
      },
      "outputs": [
        {
          "output_type": "stream",
          "name": "stdout",
          "text": [
            "<opacus.data_loader.DPDataLoader object at 0x7fb988f9b790>\n"
          ]
        }
      ],
      "source": [
        "# print(train_features_loader) #train_loader with no private\n",
        "print(train_loaderDP)"
      ],
      "id": "WF_MPEkqyNsN"
    },
    {
      "cell_type": "code",
      "execution_count": null,
      "metadata": {
        "colab": {
          "base_uri": "https://localhost:8080/"
        },
        "id": "gYusyskSyLNm",
        "outputId": "86821027-d0c1-47af-f1f8-0f54e4809892"
      },
      "outputs": [
        {
          "output_type": "stream",
          "name": "stdout",
          "text": [
            "GradSampleModule(Classifier(\n",
            "  (fc1): Linear(in_features=25088, out_features=4096, bias=True)\n",
            "  (fc3): Linear(in_features=4096, out_features=10, bias=True)\n",
            "  (dropout): Dropout(p=0.2, inplace=False)\n",
            "))\n"
          ]
        }
      ],
      "source": [
        "# print(classifier_model_noPrivate) #train_loader with no private\n",
        "print(modelDP)"
      ],
      "id": "gYusyskSyLNm"
    },
    {
      "cell_type": "code",
      "execution_count": null,
      "metadata": {
        "colab": {
          "base_uri": "https://localhost:8080/"
        },
        "id": "AY07U2tqx7mS",
        "outputId": "b0d435cd-982a-4a19-94e5-e8f9ff91b9d2"
      },
      "outputs": [
        {
          "output_type": "stream",
          "name": "stdout",
          "text": [
            "RMSprop (\n",
            "Parameter Group 0\n",
            "    alpha: 0.99\n",
            "    centered: False\n",
            "    eps: 1e-08\n",
            "    lr: 0.001\n",
            "    momentum: 0\n",
            "    weight_decay: 0\n",
            ")\n"
          ]
        }
      ],
      "source": [
        "# print(opt_c_noPrivate) #optimizer with no private\n",
        "print(optimizerDP )"
      ],
      "id": "AY07U2tqx7mS"
    },
    {
      "cell_type": "code",
      "execution_count": null,
      "metadata": {
        "colab": {
          "base_uri": "https://localhost:8080/"
        },
        "id": "RUVuHYp286va",
        "outputId": "a143b4a9-6dcf-467c-d274-f9da7c9f312a"
      },
      "outputs": [
        {
          "output_type": "execute_result",
          "data": {
            "text/plain": [
              "<torch.utils.data.dataloader.DataLoader at 0x7fb98f6a41d0>"
            ]
          },
          "metadata": {},
          "execution_count": 38
        }
      ],
      "source": [
        "test_features_loader"
      ],
      "id": "RUVuHYp286va"
    },
    {
      "cell_type": "markdown",
      "metadata": {
        "id": "SlQoKzATxt7C"
      },
      "source": [
        "### Training loop function:\n"
      ],
      "id": "SlQoKzATxt7C"
    },
    {
      "cell_type": "code",
      "execution_count": null,
      "metadata": {
        "id": "C6E8iVxtosWh"
      },
      "outputs": [],
      "source": [
        "torch.cuda.empty_cache()"
      ],
      "id": "C6E8iVxtosWh"
    },
    {
      "cell_type": "code",
      "execution_count": null,
      "metadata": {
        "id": "qt-SYNsXUsPp"
      },
      "outputs": [],
      "source": [
        "#final\n",
        "import numpy as np\n",
        "from opacus.utils.batch_memory_manager import BatchMemoryManager\n",
        "\n",
        "\n",
        "def train_Private(model, train_loader, optimizer, epoch, device):\n",
        "    model.train()\n",
        "    criterion = nn.CrossEntropyLoss()\n",
        "    # criterion = nn.NLLLoss()\n",
        "\n",
        "    losses = []\n",
        "    top1_acc = []\n",
        "    \n",
        "    with BatchMemoryManager(\n",
        "        data_loader=train_loader, \n",
        "        max_physical_batch_size=MAX_PHYSICAL_BATCH_SIZE, \n",
        "        optimizer=optimizer\n",
        "    ) as memory_safe_data_loader:\n",
        "\n",
        "        for i, (images,target) in enumerate(memory_safe_data_loader):   \n",
        "            optimizer.zero_grad()\n",
        "\n",
        "            if images.shape[0]!=1:\n",
        "              images = torch.squeeze(images)\n",
        "\n",
        "            target = target.type(torch.LongTensor)\n",
        "            if target.shape[0]==1:\n",
        "              target = target[0]\n",
        "            else:\n",
        "              target = torch.squeeze(target)\n",
        "\n",
        "            print(\"images.shape: \")\n",
        "            print(images.shape)\n",
        "            print(\"target.shape: \")\n",
        "            print(target.shape)\n",
        "            images = images.to(device)\n",
        "            target = target.to(device)\n",
        "\n",
        "            # compute output\n",
        "            # model = model.to(device)\n",
        "            output = model(images.float())\n",
        "            # output = model(images)\n",
        "            loss = criterion(output, target)\n",
        "\n",
        "            preds = np.argmax(output.detach().cpu().numpy(), axis=1)\n",
        "            # preds = output.detach().cpu().numpy()\n",
        "            labels = target.detach().cpu().numpy()\n",
        "            \n",
        "            # measure accuracy and record loss\n",
        "            acc = accuracy(preds, labels)\n",
        "\n",
        "            losses.append(loss.item())\n",
        "            top1_acc.append(acc)\n",
        "\n",
        "            \n",
        "\n",
        "            loss.backward()\n",
        "            optimizer.step()\n",
        "\n",
        "            if (i+1) % 1 == 0:\n",
        "                epsilon = privacy_engine.get_epsilon(DELTA)\n",
        "                print(\n",
        "                    f\"\\tTrain Epoch: {epoch} \\t\"\n",
        "                    f\"Loss: {np.mean(losses):.6f} \"\n",
        "                    f\"Acc@1: {np.mean(top1_acc) * 100:.6f} \"\n",
        "                    f\"(ε = {epsilon:.2f}, δ = {DELTA})\"\n",
        "                )\n",
        "            # torch.cuda.empty_cache()"
      ],
      "id": "qt-SYNsXUsPp"
    },
    {
      "cell_type": "markdown",
      "metadata": {
        "id": "BFy9hbkIxyQ5"
      },
      "source": [
        "### Testing loop function:\n"
      ],
      "id": "BFy9hbkIxyQ5"
    },
    {
      "cell_type": "code",
      "execution_count": null,
      "metadata": {
        "id": "5578c6f7-7632-44c0-a4b2-1e850c49f15c"
      },
      "outputs": [],
      "source": [
        "def test(model, test_loader, device):\n",
        "    model.eval()\n",
        "    criterion = nn.CrossEntropyLoss()\n",
        "    # criterion = nn.NLLLoss()\n",
        "    losses = []\n",
        "    top1_acc = []\n",
        "\n",
        "    with torch.no_grad():\n",
        "        for (images,target) in test_loader:\n",
        "            images = torch.squeeze(images)\n",
        "            target = target.type(torch.LongTensor)\n",
        "            target = torch.squeeze(target)\n",
        "\n",
        "            images = images.to(device)\n",
        "            target = target.to(device)\n",
        "\n",
        "            output = model(images.float())\n",
        "            # output = model(images)\n",
        "            loss = criterion(output, target)\n",
        "            preds = np.argmax(output.detach().cpu().numpy(), axis=1)\n",
        "            # preds = output.detach().cpu().numpy()\n",
        "            labels = target.detach().cpu().numpy()\n",
        "            acc = accuracy(preds, labels)\n",
        "\n",
        "            losses.append(loss.item())\n",
        "            top1_acc.append(acc)\n",
        "\n",
        "    top1_avg = np.mean(top1_acc)\n",
        "\n",
        "    print(\n",
        "        f\"\\tTest set:\"\n",
        "        f\"Loss: {np.mean(losses):.6f} \"\n",
        "        f\"Acc: {top1_avg * 100:.6f} \"\n",
        "    )\n",
        "    return np.mean(top1_acc)"
      ],
      "id": "5578c6f7-7632-44c0-a4b2-1e850c49f15c"
    },
    {
      "cell_type": "markdown",
      "metadata": {
        "id": "EOLBW9Wdyr1o"
      },
      "source": [
        "## Training loop:"
      ],
      "id": "EOLBW9Wdyr1o"
    },
    {
      "cell_type": "code",
      "execution_count": null,
      "metadata": {
        "id": "-GSUyFRpWXgO"
      },
      "outputs": [],
      "source": [
        "## Epoch: 2 , BATCH_SIZE = 128 , MAX_PHYSICAL_BATCH_SIZE = 8\n",
        "from tqdm.notebook import tqdm\n",
        "\n",
        "for epoch in tqdm(range(EPOCHS), desc=\"Epoch\", unit=\"epoch\"):\n",
        "    train_Private(modelDP, train_loaderDP, optimizerDP, epoch + 1, device)"
      ],
      "id": "-GSUyFRpWXgO"
    },
    {
      "cell_type": "markdown",
      "metadata": {
        "id": "P2hlGjpHyzDo"
      },
      "source": [
        "## Testing Loop:"
      ],
      "id": "P2hlGjpHyzDo"
    },
    {
      "cell_type": "code",
      "execution_count": null,
      "metadata": {
        "colab": {
          "base_uri": "https://localhost:8080/"
        },
        "id": "nBdI1oJ2W7XN",
        "outputId": "5f6c8fa0-ef47-45ee-edf4-c49d50af6843"
      },
      "outputs": [
        {
          "output_type": "stream",
          "name": "stdout",
          "text": [
            "I count the length\n",
            "I count the length\n",
            "I count the length\n",
            "\tTest set:Loss: 0.510249 Acc: 84.048655 \n"
          ]
        }
      ],
      "source": [
        "top1_acc = test(classifier_model_noPrivate, test_features_loader, device)"
      ],
      "id": "nBdI1oJ2W7XN"
    },
    {
      "cell_type": "markdown",
      "metadata": {
        "id": "x4ifJaRiUXXR"
      },
      "source": [
        "## **Save model**"
      ],
      "id": "x4ifJaRiUXXR"
    },
    {
      "cell_type": "code",
      "source": [
        "from google.colab import drive\n",
        "drive.mount('/content/drive')"
      ],
      "metadata": {
        "colab": {
          "base_uri": "https://localhost:8080/"
        },
        "id": "slbZY9resEVT",
        "outputId": "723e9f31-70a2-4b91-807d-525709432d7c"
      },
      "id": "slbZY9resEVT",
      "execution_count": null,
      "outputs": [
        {
          "output_type": "stream",
          "name": "stdout",
          "text": [
            "Mounted at /content/drive\n"
          ]
        }
      ]
    },
    {
      "cell_type": "code",
      "source": [
        "classifier_model_noPrivate = classifier_model_noPrivate.to(\"cpu\")"
      ],
      "metadata": {
        "id": "p4Ag7OFu4LJI"
      },
      "id": "p4Ag7OFu4LJI",
      "execution_count": null,
      "outputs": []
    },
    {
      "cell_type": "code",
      "execution_count": null,
      "metadata": {
        "id": "lIbJCzZiUnbm"
      },
      "outputs": [],
      "source": [
        "PathClassifier='../content/drive/MyDrive/finalProjectColab/classifier_model_Version_Private1.pt'\n",
        "torch.save(classifier_model_noPrivate, PathClassifier)"
      ],
      "id": "lIbJCzZiUnbm"
    },
    {
      "cell_type": "markdown",
      "metadata": {
        "id": "GaNlI36vU9Ze"
      },
      "source": [
        "## **Load model**"
      ],
      "id": "GaNlI36vU9Ze"
    },
    {
      "cell_type": "code",
      "execution_count": null,
      "metadata": {
        "id": "3l12CKPnVEHr"
      },
      "outputs": [],
      "source": [
        "PathClassifier='../content/drive/MyDrive/finalProjectColab/classifier_model_Version_Private1.pt'\n",
        "classifier_ = torch.load(PathClassifier)"
      ],
      "id": "3l12CKPnVEHr"
    },
    {
      "cell_type": "markdown",
      "metadata": {
        "id": "liefcfwi0CM4"
      },
      "source": [
        "## **Classification**"
      ],
      "id": "liefcfwi0CM4"
    },
    {
      "cell_type": "code",
      "execution_count": null,
      "metadata": {
        "colab": {
          "base_uri": "https://localhost:8080/"
        },
        "id": "cjbzNQuFz-iG",
        "outputId": "6224c891-8d98-4b6b-8397-f360ab57a64f"
      },
      "outputs": [
        {
          "output_type": "stream",
          "name": "stdout",
          "text": [
            "cuda\n"
          ]
        },
        {
          "output_type": "execute_result",
          "data": {
            "text/plain": [
              "GradSampleModule(Classifier(\n",
              "  (fc1): Linear(in_features=25088, out_features=4096, bias=True)\n",
              "  (fc3): Linear(in_features=4096, out_features=10, bias=True)\n",
              "  (dropout): Dropout(p=0.2, inplace=False)\n",
              "))"
            ]
          },
          "metadata": {},
          "execution_count": 64
        }
      ],
      "source": [
        "device = torch.device(\"cuda\" if torch.cuda.is_available() else \"cpu\")\n",
        "print(device)\n",
        "features_model = features_model.to(device)\n",
        "modelDP = modelDP.to(device)\n",
        "features_model.eval()\n",
        "modelDP.eval()"
      ],
      "id": "cjbzNQuFz-iG"
    },
    {
      "cell_type": "code",
      "execution_count": null,
      "metadata": {
        "id": "EDyptBQhGJvD"
      },
      "outputs": [],
      "source": [
        "import torch\n",
        "import torchvision\n",
        "import torchvision.transforms as transforms\n",
        "\n",
        "transform = transforms.Compose([\n",
        "                               transforms.Resize(size=224),\n",
        "                               transforms.Grayscale(num_output_channels=3),\n",
        "                               transforms.ToTensor(),\n",
        "                               transforms.Normalize(mean=[0.485, 0.456, 0.406],\n",
        "                                 std=[0.229, 0.224, 0.225])\n",
        "                             ])"
      ],
      "id": "EDyptBQhGJvD"
    },
    {
      "cell_type": "code",
      "execution_count": null,
      "metadata": {
        "colab": {
          "base_uri": "https://localhost:8080/",
          "height": 285
        },
        "id": "DHgmVZcV-lGM",
        "outputId": "da68f8f8-4fd5-4127-8a51-dc5461cd8cf4"
      },
      "outputs": [
        {
          "output_type": "stream",
          "name": "stdout",
          "text": [
            "torch.Size([3, 224, 224])\n",
            "tensor(5)\n"
          ]
        },
        {
          "output_type": "display_data",
          "data": {
            "text/plain": [
              "<Figure size 432x288 with 1 Axes>"
            ],
            "image/png": "[encoded data removed]"
          },
          "metadata": {
            "needs_background": "light"
          }
        }
      ],
      "source": [
        "## load helper.py\n",
        "import helper\n",
        "sample = iter(test_loader)\n",
        "sample_img, sample_target = next(sample)\n",
        "print(sample_img[0,:].shape)\n",
        "testImg = sample_img[0,:]\n",
        "helper.imshow(testImg);\n",
        "print(sample_target[0])\n",
        "img =testImg"
      ],
      "id": "DHgmVZcV-lGM"
    },
    {
      "cell_type": "code",
      "execution_count": null,
      "metadata": {
        "colab": {
          "base_uri": "https://localhost:8080/"
        },
        "id": "VzaCFGzv3ESf",
        "outputId": "b1c96049-d661-4da0-dac5-ffb169276569"
      },
      "outputs": [
        {
          "output_type": "stream",
          "name": "stdout",
          "text": [
            "torch.Size([3, 224, 224])\n",
            "torch.Size([1, 3, 224, 224])\n"
          ]
        }
      ],
      "source": [
        "with torch.no_grad():\n",
        "\n",
        "  # img1 =transform(img) # set this if you load image not by testloader\n",
        "  img1 =img # set this if you load image by testloader\n",
        "  \n",
        "  print(img1.shape)\n",
        "  img1 = torch.unsqueeze(img1, 0)\n",
        "  print(img1.shape)\n",
        "  img1 = img1.to(device)\n",
        "  pred = features_model(img1)"
      ],
      "id": "VzaCFGzv3ESf"
    },
    {
      "cell_type": "code",
      "execution_count": null,
      "metadata": {
        "colab": {
          "base_uri": "https://localhost:8080/"
        },
        "id": "mQLCT4UmI84g",
        "outputId": "540bd90c-28d3-43a8-bc3e-ddb8bb76baca"
      },
      "outputs": [
        {
          "output_type": "stream",
          "name": "stdout",
          "text": [
            "5\n",
            "tensor([-1.4219, -4.4577, -3.6013,  2.1117, -0.9454, 12.0823,  0.2504, -3.8526,\n",
            "         2.6971, -3.2288], device='cuda:0')\n"
          ]
        }
      ],
      "source": [
        "with torch.no_grad():\n",
        "  pred = torch.squeeze(pred)\n",
        "  pred.shape\n",
        "  result = modelDP(pred.float())\n",
        "  preds = np.argmax(result.detach().cpu().numpy())\n",
        "  print(preds)\n",
        "  print(result)\n",
        "  # 0 , 1 , 2 , 3 , 4 , 5 , 6 , 7 , 8 , 9"
      ],
      "id": "mQLCT4UmI84g"
    },
    {
      "cell_type": "markdown",
      "source": [
        "## **Attack**"
      ],
      "metadata": {
        "id": "CS-pTrKhwZeT"
      },
      "id": "CS-pTrKhwZeT"
    },
    {
      "cell_type": "code",
      "source": [
        "from google.colab import drive\n",
        "drive.mount('/content/drive')"
      ],
      "metadata": {
        "id": "ET6wuMdtyJY8",
        "colab": {
          "base_uri": "https://localhost:8080/"
        },
        "outputId": "b1afd472-2df8-425f-9dbd-bc2b553873db"
      },
      "id": "ET6wuMdtyJY8",
      "execution_count": null,
      "outputs": [
        {
          "output_type": "stream",
          "name": "stdout",
          "text": [
            "Drive already mounted at /content/drive; to attempt to forcibly remount, call drive.mount(\"/content/drive\", force_remount=True).\n"
          ]
        }
      ]
    },
    {
      "cell_type": "code",
      "source": [
        "class Attacker(nn.Module):\n",
        "  def __init__(self):\n",
        "    super(Attacker, self).__init__()\n",
        "    self.layers= nn.Sequential(\n",
        "                      nn.Linear(10, 512),\n",
        "                      nn.ReLU(),\n",
        "                      nn.Linear(512, 1000),\n",
        "                      nn.ReLU(),\n",
        "                      nn.Linear(1000, 1000),\n",
        "                      nn.ReLU(),\n",
        "                      nn.Linear(1000, 1024),\n",
        "                    )\n",
        " \n",
        "  def forward(self, x):\n",
        "    return self.layers(x)"
      ],
      "metadata": {
        "id": "piYinOLqyPFM"
      },
      "id": "piYinOLqyPFM",
      "execution_count": null,
      "outputs": []
    },
    {
      "cell_type": "code",
      "source": [
        "attacker = Attacker()"
      ],
      "metadata": {
        "id": "RRJFh27eyRjM"
      },
      "id": "RRJFh27eyRjM",
      "execution_count": null,
      "outputs": []
    },
    {
      "cell_type": "code",
      "source": [
        "device = torch.device(\"cuda\" if torch.cuda.is_available() else \"cpu\")\n",
        "# device=\"cpu\"\n",
        "print(device)\n",
        "attacker = attacker.to(device)"
      ],
      "metadata": {
        "colab": {
          "base_uri": "https://localhost:8080/"
        },
        "id": "wQrWq_wryZvr",
        "outputId": "1d17b696-98c4-45a3-db21-d2343d51d571"
      },
      "id": "wQrWq_wryZvr",
      "execution_count": null,
      "outputs": [
        {
          "output_type": "stream",
          "name": "stdout",
          "text": [
            "cpu\n"
          ]
        }
      ]
    },
    {
      "cell_type": "code",
      "execution_count": null,
      "metadata": {
        "id": "V0tKMYGHrGzV"
      },
      "outputs": [],
      "source": [
        "PathClassifier='../content/drive/MyDrive/finalProjectColab/Version_Private_attacker_1.pt'\n",
        "attacker = torch.load(PathClassifier)"
      ],
      "id": "V0tKMYGHrGzV"
    },
    {
      "cell_type": "code",
      "source": [
        "classifier_ = classifier_model_noPrivate"
      ],
      "metadata": {
        "id": "f12PH5mz048d"
      },
      "id": "f12PH5mz048d",
      "execution_count": null,
      "outputs": []
    },
    {
      "cell_type": "code",
      "source": [
        "## load helper.py\n",
        "import helper\n",
        "sample = iter(test_loader)\n",
        "sample_img, sample_target = next(sample)\n",
        "print(sample_img[0,:].shape)\n",
        "testImg = sample_img[0,:]\n",
        "helper.imshow(testImg);\n",
        "print(sample_target[0])\n",
        "img =testImg\n",
        "\n",
        "with torch.no_grad():\n",
        "\n",
        "  # img1 =transform(img) # set this if you load image not by testloader\n",
        "  img1 =img # set this if you load image by testloader\n",
        "  \n",
        "  print(img1.shape)\n",
        "  img1 = torch.unsqueeze(img1, 0)\n",
        "  print(img1.shape)\n",
        "  img1 = img1.to(device)\n",
        "  pred = features_model(img1)\n",
        "\n",
        "with torch.no_grad():\n",
        "  pred = torch.squeeze(pred)\n",
        "  pred.shape\n",
        "  result = classifier_(pred.float())\n",
        "  preds = np.argmax(result.detach().cpu().numpy())\n",
        "  print(preds)\n",
        "  print(result)\n",
        "\n",
        "with torch.no_grad():\n",
        "  attacker = attacker.to(device)\n",
        "  recreate = attacker(result)\n",
        "\n",
        "  print(recreate.shape)\n",
        "  recreate1 = recreate.reshape([1,32,32])\n",
        "  print(recreate1.shape)\n",
        "  recreate2=recreate1.to(\"cpu\")\n",
        "  helper.imshow(recreate2)\n",
        "  # plt.imshow(recreate2[0],\"gray\")"
      ],
      "metadata": {
        "colab": {
          "base_uri": "https://localhost:8080/",
          "height": 643
        },
        "id": "psKdXlmmzJdi",
        "outputId": "cbed293b-2974-4df2-f2eb-3d16e6fd2a26"
      },
      "id": "psKdXlmmzJdi",
      "execution_count": null,
      "outputs": [
        {
          "output_type": "stream",
          "name": "stdout",
          "text": [
            "torch.Size([3, 32, 32])\n",
            "tensor(5)\n",
            "torch.Size([3, 32, 32])\n",
            "torch.Size([1, 3, 32, 32])\n",
            "1\n",
            "tensor([-0.1236,  0.6877, -0.1889,  0.4258,  0.3086, -0.3182, -0.0254,  0.3893,\n",
            "        -0.2033, -0.4359])\n",
            "torch.Size([1024])\n",
            "torch.Size([1, 32, 32])\n"
          ]
        },
        {
          "output_type": "display_data",
          "data": {
            "text/plain": [
              "<Figure size 432x288 with 1 Axes>"
            ],
            "image/png": "[encoded data removed]"
          },
          "metadata": {
            "needs_background": "light"
          }
        },
        {
          "output_type": "display_data",
          "data": {
            "text/plain": [
              "<Figure size 432x288 with 1 Axes>"
            ],
            "image/png": "[encoded data removed]"
          },
          "metadata": {
            "needs_background": "light"
          }
        }
      ]
    },
    {
      "cell_type": "code",
      "source": [
        ""
      ],
      "metadata": {
        "id": "IzOVaRHo1bNq"
      },
      "id": "IzOVaRHo1bNq",
      "execution_count": null,
      "outputs": []
    }
  ],
  "metadata": {
    "colab": {
      "collapsed_sections": [],
      "name": "Version Private 1 - Attack on Privacy.ipynb",
      "provenance": []
    },
    "kernelspec": {
      "display_name": "Python 3 (ipykernel)",
      "language": "python",
      "name": "python3"
    },
    "language_info": {
      "codemirror_mode": {
        "name": "ipython",
        "version": 3
      },
      "file_extension": ".py",
      "mimetype": "text/x-python",
      "name": "python",
      "nbconvert_exporter": "python",
      "pygments_lexer": "ipython3",
      "version": "3.9.12"
    },
    "widgets": {
      "application/vnd.jupyter.widget-state+json": {
        "89e5c1ec6a944f3494ac4208190a2e87": {
          "model_module": "@jupyter-widgets/controls",
          "model_name": "HBoxModel",
          "model_module_version": "1.5.0",
          "state": {
            "_dom_classes": [],
            "_model_module": "@jupyter-widgets/controls",
            "_model_module_version": "1.5.0",
            "_model_name": "HBoxModel",
            "_view_count": null,
            "_view_module": "@jupyter-widgets/controls",
            "_view_module_version": "1.5.0",
            "_view_name": "HBoxView",
            "box_style": "",
            "children": [
              "IPY_MODEL_4eeb678a94a54646bcfb7cd21ab81cd7",
              "IPY_MODEL_af1e68e112f947c0b3c4b1fd08515cc4",
              "IPY_MODEL_1342d9c3e41b4889a8b179da24f3bee4"
            ],
            "layout": "IPY_MODEL_142b48de9965419b8f4c78b3dab01a83"
          }
        },
        "4eeb678a94a54646bcfb7cd21ab81cd7": {
          "model_module": "@jupyter-widgets/controls",
          "model_name": "HTMLModel",
          "model_module_version": "1.5.0",
          "state": {
            "_dom_classes": [],
            "_model_module": "@jupyter-widgets/controls",
            "_model_module_version": "1.5.0",
            "_model_name": "HTMLModel",
            "_view_count": null,
            "_view_module": "@jupyter-widgets/controls",
            "_view_module_version": "1.5.0",
            "_view_name": "HTMLView",
            "description": "",
            "description_tooltip": null,
            "layout": "IPY_MODEL_89d6822dc8f34919828c118e30c06c3b",
            "placeholder": "​",
            "style": "IPY_MODEL_0f271b25c2d6400a9e65e6dc07b803c2",
            "value": ""
          }
        },
        "af1e68e112f947c0b3c4b1fd08515cc4": {
          "model_module": "@jupyter-widgets/controls",
          "model_name": "FloatProgressModel",
          "model_module_version": "1.5.0",
          "state": {
            "_dom_classes": [],
            "_model_module": "@jupyter-widgets/controls",
            "_model_module_version": "1.5.0",
            "_model_name": "FloatProgressModel",
            "_view_count": null,
            "_view_module": "@jupyter-widgets/controls",
            "_view_module_version": "1.5.0",
            "_view_name": "ProgressView",
            "bar_style": "success",
            "description": "",
            "description_tooltip": null,
            "layout": "IPY_MODEL_4ca3c6fea00644238f326e75dad9ca62",
            "max": 9912422,
            "min": 0,
            "orientation": "horizontal",
            "style": "IPY_MODEL_562057968ca74cad92d131c6254d7cf1",
            "value": 9912422
          }
        },
        "1342d9c3e41b4889a8b179da24f3bee4": {
          "model_module": "@jupyter-widgets/controls",
          "model_name": "HTMLModel",
          "model_module_version": "1.5.0",
          "state": {
            "_dom_classes": [],
            "_model_module": "@jupyter-widgets/controls",
            "_model_module_version": "1.5.0",
            "_model_name": "HTMLModel",
            "_view_count": null,
            "_view_module": "@jupyter-widgets/controls",
            "_view_module_version": "1.5.0",
            "_view_name": "HTMLView",
            "description": "",
            "description_tooltip": null,
            "layout": "IPY_MODEL_2702b651d2cf45cdaad4a97722343d95",
            "placeholder": "​",
            "style": "IPY_MODEL_240bca0458894ec288a0604c9e8f5f54",
            "value": " 9913344/? [00:00&lt;00:00, 15400542.15it/s]"
          }
        },
        "142b48de9965419b8f4c78b3dab01a83": {
          "model_module": "@jupyter-widgets/base",
          "model_name": "LayoutModel",
          "model_module_version": "1.2.0",
          "state": {
            "_model_module": "@jupyter-widgets/base",
            "_model_module_version": "1.2.0",
            "_model_name": "LayoutModel",
            "_view_count": null,
            "_view_module": "@jupyter-widgets/base",
            "_view_module_version": "1.2.0",
            "_view_name": "LayoutView",
            "align_content": null,
            "align_items": null,
            "align_self": null,
            "border": null,
            "bottom": null,
            "display": null,
            "flex": null,
            "flex_flow": null,
            "grid_area": null,
            "grid_auto_columns": null,
            "grid_auto_flow": null,
            "grid_auto_rows": null,
            "grid_column": null,
            "grid_gap": null,
            "grid_row": null,
            "grid_template_areas": null,
            "grid_template_columns": null,
            "grid_template_rows": null,
            "height": null,
            "justify_content": null,
            "justify_items": null,
            "left": null,
            "margin": null,
            "max_height": null,
            "max_width": null,
            "min_height": null,
            "min_width": null,
            "object_fit": null,
            "object_position": null,
            "order": null,
            "overflow": null,
            "overflow_x": null,
            "overflow_y": null,
            "padding": null,
            "right": null,
            "top": null,
            "visibility": null,
            "width": null
          }
        },
        "89d6822dc8f34919828c118e30c06c3b": {
          "model_module": "@jupyter-widgets/base",
          "model_name": "LayoutModel",
          "model_module_version": "1.2.0",
          "state": {
            "_model_module": "@jupyter-widgets/base",
            "_model_module_version": "1.2.0",
            "_model_name": "LayoutModel",
            "_view_count": null,
            "_view_module": "@jupyter-widgets/base",
            "_view_module_version": "1.2.0",
            "_view_name": "LayoutView",
            "align_content": null,
            "align_items": null,
            "align_self": null,
            "border": null,
            "bottom": null,
            "display": null,
            "flex": null,
            "flex_flow": null,
            "grid_area": null,
            "grid_auto_columns": null,
            "grid_auto_flow": null,
            "grid_auto_rows": null,
            "grid_column": null,
            "grid_gap": null,
            "grid_row": null,
            "grid_template_areas": null,
            "grid_template_columns": null,
            "grid_template_rows": null,
            "height": null,
            "justify_content": null,
            "justify_items": null,
            "left": null,
            "margin": null,
            "max_height": null,
            "max_width": null,
            "min_height": null,
            "min_width": null,
            "object_fit": null,
            "object_position": null,
            "order": null,
            "overflow": null,
            "overflow_x": null,
            "overflow_y": null,
            "padding": null,
            "right": null,
            "top": null,
            "visibility": null,
            "width": null
          }
        },
        "0f271b25c2d6400a9e65e6dc07b803c2": {
          "model_module": "@jupyter-widgets/controls",
          "model_name": "DescriptionStyleModel",
          "model_module_version": "1.5.0",
          "state": {
            "_model_module": "@jupyter-widgets/controls",
            "_model_module_version": "1.5.0",
            "_model_name": "DescriptionStyleModel",
            "_view_count": null,
            "_view_module": "@jupyter-widgets/base",
            "_view_module_version": "1.2.0",
            "_view_name": "StyleView",
            "description_width": ""
          }
        },
        "4ca3c6fea00644238f326e75dad9ca62": {
          "model_module": "@jupyter-widgets/base",
          "model_name": "LayoutModel",
          "model_module_version": "1.2.0",
          "state": {
            "_model_module": "@jupyter-widgets/base",
            "_model_module_version": "1.2.0",
            "_model_name": "LayoutModel",
            "_view_count": null,
            "_view_module": "@jupyter-widgets/base",
            "_view_module_version": "1.2.0",
            "_view_name": "LayoutView",
            "align_content": null,
            "align_items": null,
            "align_self": null,
            "border": null,
            "bottom": null,
            "display": null,
            "flex": null,
            "flex_flow": null,
            "grid_area": null,
            "grid_auto_columns": null,
            "grid_auto_flow": null,
            "grid_auto_rows": null,
            "grid_column": null,
            "grid_gap": null,
            "grid_row": null,
            "grid_template_areas": null,
            "grid_template_columns": null,
            "grid_template_rows": null,
            "height": null,
            "justify_content": null,
            "justify_items": null,
            "left": null,
            "margin": null,
            "max_height": null,
            "max_width": null,
            "min_height": null,
            "min_width": null,
            "object_fit": null,
            "object_position": null,
            "order": null,
            "overflow": null,
            "overflow_x": null,
            "overflow_y": null,
            "padding": null,
            "right": null,
            "top": null,
            "visibility": null,
            "width": null
          }
        },
        "562057968ca74cad92d131c6254d7cf1": {
          "model_module": "@jupyter-widgets/controls",
          "model_name": "ProgressStyleModel",
          "model_module_version": "1.5.0",
          "state": {
            "_model_module": "@jupyter-widgets/controls",
            "_model_module_version": "1.5.0",
            "_model_name": "ProgressStyleModel",
            "_view_count": null,
            "_view_module": "@jupyter-widgets/base",
            "_view_module_version": "1.2.0",
            "_view_name": "StyleView",
            "bar_color": null,
            "description_width": ""
          }
        },
        "2702b651d2cf45cdaad4a97722343d95": {
          "model_module": "@jupyter-widgets/base",
          "model_name": "LayoutModel",
          "model_module_version": "1.2.0",
          "state": {
            "_model_module": "@jupyter-widgets/base",
            "_model_module_version": "1.2.0",
            "_model_name": "LayoutModel",
            "_view_count": null,
            "_view_module": "@jupyter-widgets/base",
            "_view_module_version": "1.2.0",
            "_view_name": "LayoutView",
            "align_content": null,
            "align_items": null,
            "align_self": null,
            "border": null,
            "bottom": null,
            "display": null,
            "flex": null,
            "flex_flow": null,
            "grid_area": null,
            "grid_auto_columns": null,
            "grid_auto_flow": null,
            "grid_auto_rows": null,
            "grid_column": null,
            "grid_gap": null,
            "grid_row": null,
            "grid_template_areas": null,
            "grid_template_columns": null,
            "grid_template_rows": null,
            "height": null,
            "justify_content": null,
            "justify_items": null,
            "left": null,
            "margin": null,
            "max_height": null,
            "max_width": null,
            "min_height": null,
            "min_width": null,
            "object_fit": null,
            "object_position": null,
            "order": null,
            "overflow": null,
            "overflow_x": null,
            "overflow_y": null,
            "padding": null,
            "right": null,
            "top": null,
            "visibility": null,
            "width": null
          }
        },
        "240bca0458894ec288a0604c9e8f5f54": {
          "model_module": "@jupyter-widgets/controls",
          "model_name": "DescriptionStyleModel",
          "model_module_version": "1.5.0",
          "state": {
            "_model_module": "@jupyter-widgets/controls",
            "_model_module_version": "1.5.0",
            "_model_name": "DescriptionStyleModel",
            "_view_count": null,
            "_view_module": "@jupyter-widgets/base",
            "_view_module_version": "1.2.0",
            "_view_name": "StyleView",
            "description_width": ""
          }
        },
        "4c14e5a1c59f4b2dadce9df3968be06f": {
          "model_module": "@jupyter-widgets/controls",
          "model_name": "HBoxModel",
          "model_module_version": "1.5.0",
          "state": {
            "_dom_classes": [],
            "_model_module": "@jupyter-widgets/controls",
            "_model_module_version": "1.5.0",
            "_model_name": "HBoxModel",
            "_view_count": null,
            "_view_module": "@jupyter-widgets/controls",
            "_view_module_version": "1.5.0",
            "_view_name": "HBoxView",
            "box_style": "",
            "children": [
              "IPY_MODEL_385c7382f33a418daac3d9fe683732df",
              "IPY_MODEL_ecee334811564743ba8b8d825330094a",
              "IPY_MODEL_a989c664b75243a6af3ff5526908bd06"
            ],
            "layout": "IPY_MODEL_a39376233a54451c856950b0074e7596"
          }
        },
        "385c7382f33a418daac3d9fe683732df": {
          "model_module": "@jupyter-widgets/controls",
          "model_name": "HTMLModel",
          "model_module_version": "1.5.0",
          "state": {
            "_dom_classes": [],
            "_model_module": "@jupyter-widgets/controls",
            "_model_module_version": "1.5.0",
            "_model_name": "HTMLModel",
            "_view_count": null,
            "_view_module": "@jupyter-widgets/controls",
            "_view_module_version": "1.5.0",
            "_view_name": "HTMLView",
            "description": "",
            "description_tooltip": null,
            "layout": "IPY_MODEL_eb9a0b7b063b4bc1a608e8dc3391ea12",
            "placeholder": "​",
            "style": "IPY_MODEL_df48209f04944dcd863d58b10ae86a0d",
            "value": ""
          }
        },
        "ecee334811564743ba8b8d825330094a": {
          "model_module": "@jupyter-widgets/controls",
          "model_name": "FloatProgressModel",
          "model_module_version": "1.5.0",
          "state": {
            "_dom_classes": [],
            "_model_module": "@jupyter-widgets/controls",
            "_model_module_version": "1.5.0",
            "_model_name": "FloatProgressModel",
            "_view_count": null,
            "_view_module": "@jupyter-widgets/controls",
            "_view_module_version": "1.5.0",
            "_view_name": "ProgressView",
            "bar_style": "success",
            "description": "",
            "description_tooltip": null,
            "layout": "IPY_MODEL_30f8be95e4d4423b8dd2de36e7ea598c",
            "max": 28881,
            "min": 0,
            "orientation": "horizontal",
            "style": "IPY_MODEL_b679f693eff0481f965dd0b127374dfb",
            "value": 28881
          }
        },
        "a989c664b75243a6af3ff5526908bd06": {
          "model_module": "@jupyter-widgets/controls",
          "model_name": "HTMLModel",
          "model_module_version": "1.5.0",
          "state": {
            "_dom_classes": [],
            "_model_module": "@jupyter-widgets/controls",
            "_model_module_version": "1.5.0",
            "_model_name": "HTMLModel",
            "_view_count": null,
            "_view_module": "@jupyter-widgets/controls",
            "_view_module_version": "1.5.0",
            "_view_name": "HTMLView",
            "description": "",
            "description_tooltip": null,
            "layout": "IPY_MODEL_70c88d090f15486cbade422e2c6cc518",
            "placeholder": "​",
            "style": "IPY_MODEL_9c69eef22bab4b77ac804a6d397505b0",
            "value": " 29696/? [00:00&lt;00:00, 775578.64it/s]"
          }
        },
        "a39376233a54451c856950b0074e7596": {
          "model_module": "@jupyter-widgets/base",
          "model_name": "LayoutModel",
          "model_module_version": "1.2.0",
          "state": {
            "_model_module": "@jupyter-widgets/base",
            "_model_module_version": "1.2.0",
            "_model_name": "LayoutModel",
            "_view_count": null,
            "_view_module": "@jupyter-widgets/base",
            "_view_module_version": "1.2.0",
            "_view_name": "LayoutView",
            "align_content": null,
            "align_items": null,
            "align_self": null,
            "border": null,
            "bottom": null,
            "display": null,
            "flex": null,
            "flex_flow": null,
            "grid_area": null,
            "grid_auto_columns": null,
            "grid_auto_flow": null,
            "grid_auto_rows": null,
            "grid_column": null,
            "grid_gap": null,
            "grid_row": null,
            "grid_template_areas": null,
            "grid_template_columns": null,
            "grid_template_rows": null,
            "height": null,
            "justify_content": null,
            "justify_items": null,
            "left": null,
            "margin": null,
            "max_height": null,
            "max_width": null,
            "min_height": null,
            "min_width": null,
            "object_fit": null,
            "object_position": null,
            "order": null,
            "overflow": null,
            "overflow_x": null,
            "overflow_y": null,
            "padding": null,
            "right": null,
            "top": null,
            "visibility": null,
            "width": null
          }
        },
        "eb9a0b7b063b4bc1a608e8dc3391ea12": {
          "model_module": "@jupyter-widgets/base",
          "model_name": "LayoutModel",
          "model_module_version": "1.2.0",
          "state": {
            "_model_module": "@jupyter-widgets/base",
            "_model_module_version": "1.2.0",
            "_model_name": "LayoutModel",
            "_view_count": null,
            "_view_module": "@jupyter-widgets/base",
            "_view_module_version": "1.2.0",
            "_view_name": "LayoutView",
            "align_content": null,
            "align_items": null,
            "align_self": null,
            "border": null,
            "bottom": null,
            "display": null,
            "flex": null,
            "flex_flow": null,
            "grid_area": null,
            "grid_auto_columns": null,
            "grid_auto_flow": null,
            "grid_auto_rows": null,
            "grid_column": null,
            "grid_gap": null,
            "grid_row": null,
            "grid_template_areas": null,
            "grid_template_columns": null,
            "grid_template_rows": null,
            "height": null,
            "justify_content": null,
            "justify_items": null,
            "left": null,
            "margin": null,
            "max_height": null,
            "max_width": null,
            "min_height": null,
            "min_width": null,
            "object_fit": null,
            "object_position": null,
            "order": null,
            "overflow": null,
            "overflow_x": null,
            "overflow_y": null,
            "padding": null,
            "right": null,
            "top": null,
            "visibility": null,
            "width": null
          }
        },
        "df48209f04944dcd863d58b10ae86a0d": {
          "model_module": "@jupyter-widgets/controls",
          "model_name": "DescriptionStyleModel",
          "model_module_version": "1.5.0",
          "state": {
            "_model_module": "@jupyter-widgets/controls",
            "_model_module_version": "1.5.0",
            "_model_name": "DescriptionStyleModel",
            "_view_count": null,
            "_view_module": "@jupyter-widgets/base",
            "_view_module_version": "1.2.0",
            "_view_name": "StyleView",
            "description_width": ""
          }
        },
        "30f8be95e4d4423b8dd2de36e7ea598c": {
          "model_module": "@jupyter-widgets/base",
          "model_name": "LayoutModel",
          "model_module_version": "1.2.0",
          "state": {
            "_model_module": "@jupyter-widgets/base",
            "_model_module_version": "1.2.0",
            "_model_name": "LayoutModel",
            "_view_count": null,
            "_view_module": "@jupyter-widgets/base",
            "_view_module_version": "1.2.0",
            "_view_name": "LayoutView",
            "align_content": null,
            "align_items": null,
            "align_self": null,
            "border": null,
            "bottom": null,
            "display": null,
            "flex": null,
            "flex_flow": null,
            "grid_area": null,
            "grid_auto_columns": null,
            "grid_auto_flow": null,
            "grid_auto_rows": null,
            "grid_column": null,
            "grid_gap": null,
            "grid_row": null,
            "grid_template_areas": null,
            "grid_template_columns": null,
            "grid_template_rows": null,
            "height": null,
            "justify_content": null,
            "justify_items": null,
            "left": null,
            "margin": null,
            "max_height": null,
            "max_width": null,
            "min_height": null,
            "min_width": null,
            "object_fit": null,
            "object_position": null,
            "order": null,
            "overflow": null,
            "overflow_x": null,
            "overflow_y": null,
            "padding": null,
            "right": null,
            "top": null,
            "visibility": null,
            "width": null
          }
        },
        "b679f693eff0481f965dd0b127374dfb": {
          "model_module": "@jupyter-widgets/controls",
          "model_name": "ProgressStyleModel",
          "model_module_version": "1.5.0",
          "state": {
            "_model_module": "@jupyter-widgets/controls",
            "_model_module_version": "1.5.0",
            "_model_name": "ProgressStyleModel",
            "_view_count": null,
            "_view_module": "@jupyter-widgets/base",
            "_view_module_version": "1.2.0",
            "_view_name": "StyleView",
            "bar_color": null,
            "description_width": ""
          }
        },
        "70c88d090f15486cbade422e2c6cc518": {
          "model_module": "@jupyter-widgets/base",
          "model_name": "LayoutModel",
          "model_module_version": "1.2.0",
          "state": {
            "_model_module": "@jupyter-widgets/base",
            "_model_module_version": "1.2.0",
            "_model_name": "LayoutModel",
            "_view_count": null,
            "_view_module": "@jupyter-widgets/base",
            "_view_module_version": "1.2.0",
            "_view_name": "LayoutView",
            "align_content": null,
            "align_items": null,
            "align_self": null,
            "border": null,
            "bottom": null,
            "display": null,
            "flex": null,
            "flex_flow": null,
            "grid_area": null,
            "grid_auto_columns": null,
            "grid_auto_flow": null,
            "grid_auto_rows": null,
            "grid_column": null,
            "grid_gap": null,
            "grid_row": null,
            "grid_template_areas": null,
            "grid_template_columns": null,
            "grid_template_rows": null,
            "height": null,
            "justify_content": null,
            "justify_items": null,
            "left": null,
            "margin": null,
            "max_height": null,
            "max_width": null,
            "min_height": null,
            "min_width": null,
            "object_fit": null,
            "object_position": null,
            "order": null,
            "overflow": null,
            "overflow_x": null,
            "overflow_y": null,
            "padding": null,
            "right": null,
            "top": null,
            "visibility": null,
            "width": null
          }
        },
        "9c69eef22bab4b77ac804a6d397505b0": {
          "model_module": "@jupyter-widgets/controls",
          "model_name": "DescriptionStyleModel",
          "model_module_version": "1.5.0",
          "state": {
            "_model_module": "@jupyter-widgets/controls",
            "_model_module_version": "1.5.0",
            "_model_name": "DescriptionStyleModel",
            "_view_count": null,
            "_view_module": "@jupyter-widgets/base",
            "_view_module_version": "1.2.0",
            "_view_name": "StyleView",
            "description_width": ""
          }
        },
        "937b71cf2bf3421daf56427ed2044142": {
          "model_module": "@jupyter-widgets/controls",
          "model_name": "HBoxModel",
          "model_module_version": "1.5.0",
          "state": {
            "_dom_classes": [],
            "_model_module": "@jupyter-widgets/controls",
            "_model_module_version": "1.5.0",
            "_model_name": "HBoxModel",
            "_view_count": null,
            "_view_module": "@jupyter-widgets/controls",
            "_view_module_version": "1.5.0",
            "_view_name": "HBoxView",
            "box_style": "",
            "children": [
              "IPY_MODEL_9bc457216f2c4c4c9804d7a5afdbe867",
              "IPY_MODEL_d8e6196c671446a4bff248f423ca8a4b",
              "IPY_MODEL_1c3201b8006342f58935e4a482d56e68"
            ],
            "layout": "IPY_MODEL_f18a69b6d0b9453b942671ed8a79e0fb"
          }
        },
        "9bc457216f2c4c4c9804d7a5afdbe867": {
          "model_module": "@jupyter-widgets/controls",
          "model_name": "HTMLModel",
          "model_module_version": "1.5.0",
          "state": {
            "_dom_classes": [],
            "_model_module": "@jupyter-widgets/controls",
            "_model_module_version": "1.5.0",
            "_model_name": "HTMLModel",
            "_view_count": null,
            "_view_module": "@jupyter-widgets/controls",
            "_view_module_version": "1.5.0",
            "_view_name": "HTMLView",
            "description": "",
            "description_tooltip": null,
            "layout": "IPY_MODEL_c5e602593a614fa8b36c2245a033e384",
            "placeholder": "​",
            "style": "IPY_MODEL_05a7a4a581864ca7b3b8758a88c8d834",
            "value": ""
          }
        },
        "d8e6196c671446a4bff248f423ca8a4b": {
          "model_module": "@jupyter-widgets/controls",
          "model_name": "FloatProgressModel",
          "model_module_version": "1.5.0",
          "state": {
            "_dom_classes": [],
            "_model_module": "@jupyter-widgets/controls",
            "_model_module_version": "1.5.0",
            "_model_name": "FloatProgressModel",
            "_view_count": null,
            "_view_module": "@jupyter-widgets/controls",
            "_view_module_version": "1.5.0",
            "_view_name": "ProgressView",
            "bar_style": "success",
            "description": "",
            "description_tooltip": null,
            "layout": "IPY_MODEL_a59240492ee04a76bfe23b76fa6785bb",
            "max": 1648877,
            "min": 0,
            "orientation": "horizontal",
            "style": "IPY_MODEL_10e1c589505a40f38a808e3ef6922a13",
            "value": 1648877
          }
        },
        "1c3201b8006342f58935e4a482d56e68": {
          "model_module": "@jupyter-widgets/controls",
          "model_name": "HTMLModel",
          "model_module_version": "1.5.0",
          "state": {
            "_dom_classes": [],
            "_model_module": "@jupyter-widgets/controls",
            "_model_module_version": "1.5.0",
            "_model_name": "HTMLModel",
            "_view_count": null,
            "_view_module": "@jupyter-widgets/controls",
            "_view_module_version": "1.5.0",
            "_view_name": "HTMLView",
            "description": "",
            "description_tooltip": null,
            "layout": "IPY_MODEL_b0123dc63d774de688fdc2dd8108f4c0",
            "placeholder": "​",
            "style": "IPY_MODEL_ee4bf77f10444677abdd500f045bd4e7",
            "value": " 1649664/? [00:00&lt;00:00, 5204420.33it/s]"
          }
        },
        "f18a69b6d0b9453b942671ed8a79e0fb": {
          "model_module": "@jupyter-widgets/base",
          "model_name": "LayoutModel",
          "model_module_version": "1.2.0",
          "state": {
            "_model_module": "@jupyter-widgets/base",
            "_model_module_version": "1.2.0",
            "_model_name": "LayoutModel",
            "_view_count": null,
            "_view_module": "@jupyter-widgets/base",
            "_view_module_version": "1.2.0",
            "_view_name": "LayoutView",
            "align_content": null,
            "align_items": null,
            "align_self": null,
            "border": null,
            "bottom": null,
            "display": null,
            "flex": null,
            "flex_flow": null,
            "grid_area": null,
            "grid_auto_columns": null,
            "grid_auto_flow": null,
            "grid_auto_rows": null,
            "grid_column": null,
            "grid_gap": null,
            "grid_row": null,
            "grid_template_areas": null,
            "grid_template_columns": null,
            "grid_template_rows": null,
            "height": null,
            "justify_content": null,
            "justify_items": null,
            "left": null,
            "margin": null,
            "max_height": null,
            "max_width": null,
            "min_height": null,
            "min_width": null,
            "object_fit": null,
            "object_position": null,
            "order": null,
            "overflow": null,
            "overflow_x": null,
            "overflow_y": null,
            "padding": null,
            "right": null,
            "top": null,
            "visibility": null,
            "width": null
          }
        },
        "c5e602593a614fa8b36c2245a033e384": {
          "model_module": "@jupyter-widgets/base",
          "model_name": "LayoutModel",
          "model_module_version": "1.2.0",
          "state": {
            "_model_module": "@jupyter-widgets/base",
            "_model_module_version": "1.2.0",
            "_model_name": "LayoutModel",
            "_view_count": null,
            "_view_module": "@jupyter-widgets/base",
            "_view_module_version": "1.2.0",
            "_view_name": "LayoutView",
            "align_content": null,
            "align_items": null,
            "align_self": null,
            "border": null,
            "bottom": null,
            "display": null,
            "flex": null,
            "flex_flow": null,
            "grid_area": null,
            "grid_auto_columns": null,
            "grid_auto_flow": null,
            "grid_auto_rows": null,
            "grid_column": null,
            "grid_gap": null,
            "grid_row": null,
            "grid_template_areas": null,
            "grid_template_columns": null,
            "grid_template_rows": null,
            "height": null,
            "justify_content": null,
            "justify_items": null,
            "left": null,
            "margin": null,
            "max_height": null,
            "max_width": null,
            "min_height": null,
            "min_width": null,
            "object_fit": null,
            "object_position": null,
            "order": null,
            "overflow": null,
            "overflow_x": null,
            "overflow_y": null,
            "padding": null,
            "right": null,
            "top": null,
            "visibility": null,
            "width": null
          }
        },
        "05a7a4a581864ca7b3b8758a88c8d834": {
          "model_module": "@jupyter-widgets/controls",
          "model_name": "DescriptionStyleModel",
          "model_module_version": "1.5.0",
          "state": {
            "_model_module": "@jupyter-widgets/controls",
            "_model_module_version": "1.5.0",
            "_model_name": "DescriptionStyleModel",
            "_view_count": null,
            "_view_module": "@jupyter-widgets/base",
            "_view_module_version": "1.2.0",
            "_view_name": "StyleView",
            "description_width": ""
          }
        },
        "a59240492ee04a76bfe23b76fa6785bb": {
          "model_module": "@jupyter-widgets/base",
          "model_name": "LayoutModel",
          "model_module_version": "1.2.0",
          "state": {
            "_model_module": "@jupyter-widgets/base",
            "_model_module_version": "1.2.0",
            "_model_name": "LayoutModel",
            "_view_count": null,
            "_view_module": "@jupyter-widgets/base",
            "_view_module_version": "1.2.0",
            "_view_name": "LayoutView",
            "align_content": null,
            "align_items": null,
            "align_self": null,
            "border": null,
            "bottom": null,
            "display": null,
            "flex": null,
            "flex_flow": null,
            "grid_area": null,
            "grid_auto_columns": null,
            "grid_auto_flow": null,
            "grid_auto_rows": null,
            "grid_column": null,
            "grid_gap": null,
            "grid_row": null,
            "grid_template_areas": null,
            "grid_template_columns": null,
            "grid_template_rows": null,
            "height": null,
            "justify_content": null,
            "justify_items": null,
            "left": null,
            "margin": null,
            "max_height": null,
            "max_width": null,
            "min_height": null,
            "min_width": null,
            "object_fit": null,
            "object_position": null,
            "order": null,
            "overflow": null,
            "overflow_x": null,
            "overflow_y": null,
            "padding": null,
            "right": null,
            "top": null,
            "visibility": null,
            "width": null
          }
        },
        "10e1c589505a40f38a808e3ef6922a13": {
          "model_module": "@jupyter-widgets/controls",
          "model_name": "ProgressStyleModel",
          "model_module_version": "1.5.0",
          "state": {
            "_model_module": "@jupyter-widgets/controls",
            "_model_module_version": "1.5.0",
            "_model_name": "ProgressStyleModel",
            "_view_count": null,
            "_view_module": "@jupyter-widgets/base",
            "_view_module_version": "1.2.0",
            "_view_name": "StyleView",
            "bar_color": null,
            "description_width": ""
          }
        },
        "b0123dc63d774de688fdc2dd8108f4c0": {
          "model_module": "@jupyter-widgets/base",
          "model_name": "LayoutModel",
          "model_module_version": "1.2.0",
          "state": {
            "_model_module": "@jupyter-widgets/base",
            "_model_module_version": "1.2.0",
            "_model_name": "LayoutModel",
            "_view_count": null,
            "_view_module": "@jupyter-widgets/base",
            "_view_module_version": "1.2.0",
            "_view_name": "LayoutView",
            "align_content": null,
            "align_items": null,
            "align_self": null,
            "border": null,
            "bottom": null,
            "display": null,
            "flex": null,
            "flex_flow": null,
            "grid_area": null,
            "grid_auto_columns": null,
            "grid_auto_flow": null,
            "grid_auto_rows": null,
            "grid_column": null,
            "grid_gap": null,
            "grid_row": null,
            "grid_template_areas": null,
            "grid_template_columns": null,
            "grid_template_rows": null,
            "height": null,
            "justify_content": null,
            "justify_items": null,
            "left": null,
            "margin": null,
            "max_height": null,
            "max_width": null,
            "min_height": null,
            "min_width": null,
            "object_fit": null,
            "object_position": null,
            "order": null,
            "overflow": null,
            "overflow_x": null,
            "overflow_y": null,
            "padding": null,
            "right": null,
            "top": null,
            "visibility": null,
            "width": null
          }
        },
        "ee4bf77f10444677abdd500f045bd4e7": {
          "model_module": "@jupyter-widgets/controls",
          "model_name": "DescriptionStyleModel",
          "model_module_version": "1.5.0",
          "state": {
            "_model_module": "@jupyter-widgets/controls",
            "_model_module_version": "1.5.0",
            "_model_name": "DescriptionStyleModel",
            "_view_count": null,
            "_view_module": "@jupyter-widgets/base",
            "_view_module_version": "1.2.0",
            "_view_name": "StyleView",
            "description_width": ""
          }
        },
        "d616fbf3b68a416aa13ff182afe0c94e": {
          "model_module": "@jupyter-widgets/controls",
          "model_name": "HBoxModel",
          "model_module_version": "1.5.0",
          "state": {
            "_dom_classes": [],
            "_model_module": "@jupyter-widgets/controls",
            "_model_module_version": "1.5.0",
            "_model_name": "HBoxModel",
            "_view_count": null,
            "_view_module": "@jupyter-widgets/controls",
            "_view_module_version": "1.5.0",
            "_view_name": "HBoxView",
            "box_style": "",
            "children": [
              "IPY_MODEL_7e959ede0a8241369285eaea593c429f",
              "IPY_MODEL_b0319493112e42eab3592b4715967d69",
              "IPY_MODEL_46c6c317a48445df9a0edfdd9aa18bb5"
            ],
            "layout": "IPY_MODEL_8a5bd14f9c644a1b8b57139bd22a599a"
          }
        },
        "7e959ede0a8241369285eaea593c429f": {
          "model_module": "@jupyter-widgets/controls",
          "model_name": "HTMLModel",
          "model_module_version": "1.5.0",
          "state": {
            "_dom_classes": [],
            "_model_module": "@jupyter-widgets/controls",
            "_model_module_version": "1.5.0",
            "_model_name": "HTMLModel",
            "_view_count": null,
            "_view_module": "@jupyter-widgets/controls",
            "_view_module_version": "1.5.0",
            "_view_name": "HTMLView",
            "description": "",
            "description_tooltip": null,
            "layout": "IPY_MODEL_a5f4e3eafef14ba89cfbe0d1bdb9d94c",
            "placeholder": "​",
            "style": "IPY_MODEL_9ccda67bd1bc447b8e11af656abc0d82",
            "value": ""
          }
        },
        "b0319493112e42eab3592b4715967d69": {
          "model_module": "@jupyter-widgets/controls",
          "model_name": "FloatProgressModel",
          "model_module_version": "1.5.0",
          "state": {
            "_dom_classes": [],
            "_model_module": "@jupyter-widgets/controls",
            "_model_module_version": "1.5.0",
            "_model_name": "FloatProgressModel",
            "_view_count": null,
            "_view_module": "@jupyter-widgets/controls",
            "_view_module_version": "1.5.0",
            "_view_name": "ProgressView",
            "bar_style": "success",
            "description": "",
            "description_tooltip": null,
            "layout": "IPY_MODEL_ca02c048389549fa8c6f3f659b1a39da",
            "max": 4542,
            "min": 0,
            "orientation": "horizontal",
            "style": "IPY_MODEL_96ddab6eeb454477b1acdf93fa80255b",
            "value": 4542
          }
        },
        "46c6c317a48445df9a0edfdd9aa18bb5": {
          "model_module": "@jupyter-widgets/controls",
          "model_name": "HTMLModel",
          "model_module_version": "1.5.0",
          "state": {
            "_dom_classes": [],
            "_model_module": "@jupyter-widgets/controls",
            "_model_module_version": "1.5.0",
            "_model_name": "HTMLModel",
            "_view_count": null,
            "_view_module": "@jupyter-widgets/controls",
            "_view_module_version": "1.5.0",
            "_view_name": "HTMLView",
            "description": "",
            "description_tooltip": null,
            "layout": "IPY_MODEL_1cc0413a125346e38a52ec0ac386adc4",
            "placeholder": "​",
            "style": "IPY_MODEL_dfd1d6c7f1764f32a3bb798276108d47",
            "value": " 5120/? [00:00&lt;00:00, 88832.97it/s]"
          }
        },
        "8a5bd14f9c644a1b8b57139bd22a599a": {
          "model_module": "@jupyter-widgets/base",
          "model_name": "LayoutModel",
          "model_module_version": "1.2.0",
          "state": {
            "_model_module": "@jupyter-widgets/base",
            "_model_module_version": "1.2.0",
            "_model_name": "LayoutModel",
            "_view_count": null,
            "_view_module": "@jupyter-widgets/base",
            "_view_module_version": "1.2.0",
            "_view_name": "LayoutView",
            "align_content": null,
            "align_items": null,
            "align_self": null,
            "border": null,
            "bottom": null,
            "display": null,
            "flex": null,
            "flex_flow": null,
            "grid_area": null,
            "grid_auto_columns": null,
            "grid_auto_flow": null,
            "grid_auto_rows": null,
            "grid_column": null,
            "grid_gap": null,
            "grid_row": null,
            "grid_template_areas": null,
            "grid_template_columns": null,
            "grid_template_rows": null,
            "height": null,
            "justify_content": null,
            "justify_items": null,
            "left": null,
            "margin": null,
            "max_height": null,
            "max_width": null,
            "min_height": null,
            "min_width": null,
            "object_fit": null,
            "object_position": null,
            "order": null,
            "overflow": null,
            "overflow_x": null,
            "overflow_y": null,
            "padding": null,
            "right": null,
            "top": null,
            "visibility": null,
            "width": null
          }
        },
        "a5f4e3eafef14ba89cfbe0d1bdb9d94c": {
          "model_module": "@jupyter-widgets/base",
          "model_name": "LayoutModel",
          "model_module_version": "1.2.0",
          "state": {
            "_model_module": "@jupyter-widgets/base",
            "_model_module_version": "1.2.0",
            "_model_name": "LayoutModel",
            "_view_count": null,
            "_view_module": "@jupyter-widgets/base",
            "_view_module_version": "1.2.0",
            "_view_name": "LayoutView",
            "align_content": null,
            "align_items": null,
            "align_self": null,
            "border": null,
            "bottom": null,
            "display": null,
            "flex": null,
            "flex_flow": null,
            "grid_area": null,
            "grid_auto_columns": null,
            "grid_auto_flow": null,
            "grid_auto_rows": null,
            "grid_column": null,
            "grid_gap": null,
            "grid_row": null,
            "grid_template_areas": null,
            "grid_template_columns": null,
            "grid_template_rows": null,
            "height": null,
            "justify_content": null,
            "justify_items": null,
            "left": null,
            "margin": null,
            "max_height": null,
            "max_width": null,
            "min_height": null,
            "min_width": null,
            "object_fit": null,
            "object_position": null,
            "order": null,
            "overflow": null,
            "overflow_x": null,
            "overflow_y": null,
            "padding": null,
            "right": null,
            "top": null,
            "visibility": null,
            "width": null
          }
        },
        "9ccda67bd1bc447b8e11af656abc0d82": {
          "model_module": "@jupyter-widgets/controls",
          "model_name": "DescriptionStyleModel",
          "model_module_version": "1.5.0",
          "state": {
            "_model_module": "@jupyter-widgets/controls",
            "_model_module_version": "1.5.0",
            "_model_name": "DescriptionStyleModel",
            "_view_count": null,
            "_view_module": "@jupyter-widgets/base",
            "_view_module_version": "1.2.0",
            "_view_name": "StyleView",
            "description_width": ""
          }
        },
        "ca02c048389549fa8c6f3f659b1a39da": {
          "model_module": "@jupyter-widgets/base",
          "model_name": "LayoutModel",
          "model_module_version": "1.2.0",
          "state": {
            "_model_module": "@jupyter-widgets/base",
            "_model_module_version": "1.2.0",
            "_model_name": "LayoutModel",
            "_view_count": null,
            "_view_module": "@jupyter-widgets/base",
            "_view_module_version": "1.2.0",
            "_view_name": "LayoutView",
            "align_content": null,
            "align_items": null,
            "align_self": null,
            "border": null,
            "bottom": null,
            "display": null,
            "flex": null,
            "flex_flow": null,
            "grid_area": null,
            "grid_auto_columns": null,
            "grid_auto_flow": null,
            "grid_auto_rows": null,
            "grid_column": null,
            "grid_gap": null,
            "grid_row": null,
            "grid_template_areas": null,
            "grid_template_columns": null,
            "grid_template_rows": null,
            "height": null,
            "justify_content": null,
            "justify_items": null,
            "left": null,
            "margin": null,
            "max_height": null,
            "max_width": null,
            "min_height": null,
            "min_width": null,
            "object_fit": null,
            "object_position": null,
            "order": null,
            "overflow": null,
            "overflow_x": null,
            "overflow_y": null,
            "padding": null,
            "right": null,
            "top": null,
            "visibility": null,
            "width": null
          }
        },
        "96ddab6eeb454477b1acdf93fa80255b": {
          "model_module": "@jupyter-widgets/controls",
          "model_name": "ProgressStyleModel",
          "model_module_version": "1.5.0",
          "state": {
            "_model_module": "@jupyter-widgets/controls",
            "_model_module_version": "1.5.0",
            "_model_name": "ProgressStyleModel",
            "_view_count": null,
            "_view_module": "@jupyter-widgets/base",
            "_view_module_version": "1.2.0",
            "_view_name": "StyleView",
            "bar_color": null,
            "description_width": ""
          }
        },
        "1cc0413a125346e38a52ec0ac386adc4": {
          "model_module": "@jupyter-widgets/base",
          "model_name": "LayoutModel",
          "model_module_version": "1.2.0",
          "state": {
            "_model_module": "@jupyter-widgets/base",
            "_model_module_version": "1.2.0",
            "_model_name": "LayoutModel",
            "_view_count": null,
            "_view_module": "@jupyter-widgets/base",
            "_view_module_version": "1.2.0",
            "_view_name": "LayoutView",
            "align_content": null,
            "align_items": null,
            "align_self": null,
            "border": null,
            "bottom": null,
            "display": null,
            "flex": null,
            "flex_flow": null,
            "grid_area": null,
            "grid_auto_columns": null,
            "grid_auto_flow": null,
            "grid_auto_rows": null,
            "grid_column": null,
            "grid_gap": null,
            "grid_row": null,
            "grid_template_areas": null,
            "grid_template_columns": null,
            "grid_template_rows": null,
            "height": null,
            "justify_content": null,
            "justify_items": null,
            "left": null,
            "margin": null,
            "max_height": null,
            "max_width": null,
            "min_height": null,
            "min_width": null,
            "object_fit": null,
            "object_position": null,
            "order": null,
            "overflow": null,
            "overflow_x": null,
            "overflow_y": null,
            "padding": null,
            "right": null,
            "top": null,
            "visibility": null,
            "width": null
          }
        },
        "dfd1d6c7f1764f32a3bb798276108d47": {
          "model_module": "@jupyter-widgets/controls",
          "model_name": "DescriptionStyleModel",
          "model_module_version": "1.5.0",
          "state": {
            "_model_module": "@jupyter-widgets/controls",
            "_model_module_version": "1.5.0",
            "_model_name": "DescriptionStyleModel",
            "_view_count": null,
            "_view_module": "@jupyter-widgets/base",
            "_view_module_version": "1.2.0",
            "_view_name": "StyleView",
            "description_width": ""
          }
        },
        "5f5dd909d7e44137bc1d8b89999df6ba": {
          "model_module": "@jupyter-widgets/controls",
          "model_name": "HBoxModel",
          "model_module_version": "1.5.0",
          "state": {
            "_dom_classes": [],
            "_model_module": "@jupyter-widgets/controls",
            "_model_module_version": "1.5.0",
            "_model_name": "HBoxModel",
            "_view_count": null,
            "_view_module": "@jupyter-widgets/controls",
            "_view_module_version": "1.5.0",
            "_view_name": "HBoxView",
            "box_style": "",
            "children": [
              "IPY_MODEL_73592bc84bcf4a8ebaa7805acb73ed7e",
              "IPY_MODEL_8e3ac17b78c74142bc08a91bce8f3259",
              "IPY_MODEL_53bbffe6bce6415299da0f418cd7cdac"
            ],
            "layout": "IPY_MODEL_de82008dd29f44308c66dde87bf5f4e4"
          }
        },
        "73592bc84bcf4a8ebaa7805acb73ed7e": {
          "model_module": "@jupyter-widgets/controls",
          "model_name": "HTMLModel",
          "model_module_version": "1.5.0",
          "state": {
            "_dom_classes": [],
            "_model_module": "@jupyter-widgets/controls",
            "_model_module_version": "1.5.0",
            "_model_name": "HTMLModel",
            "_view_count": null,
            "_view_module": "@jupyter-widgets/controls",
            "_view_module_version": "1.5.0",
            "_view_name": "HTMLView",
            "description": "",
            "description_tooltip": null,
            "layout": "IPY_MODEL_24eb768f6f27434aa115f55cfb2931f1",
            "placeholder": "​",
            "style": "IPY_MODEL_399f1d6410aa4029a956da44a7c62e15",
            "value": "100%"
          }
        },
        "8e3ac17b78c74142bc08a91bce8f3259": {
          "model_module": "@jupyter-widgets/controls",
          "model_name": "FloatProgressModel",
          "model_module_version": "1.5.0",
          "state": {
            "_dom_classes": [],
            "_model_module": "@jupyter-widgets/controls",
            "_model_module_version": "1.5.0",
            "_model_name": "FloatProgressModel",
            "_view_count": null,
            "_view_module": "@jupyter-widgets/controls",
            "_view_module_version": "1.5.0",
            "_view_name": "ProgressView",
            "bar_style": "success",
            "description": "",
            "description_tooltip": null,
            "layout": "IPY_MODEL_7c2b539bf1404c64b658df0ced00b99a",
            "max": 553433881,
            "min": 0,
            "orientation": "horizontal",
            "style": "IPY_MODEL_87c3176d731a4f85b80d8a9b6a5c41c3",
            "value": 553433881
          }
        },
        "53bbffe6bce6415299da0f418cd7cdac": {
          "model_module": "@jupyter-widgets/controls",
          "model_name": "HTMLModel",
          "model_module_version": "1.5.0",
          "state": {
            "_dom_classes": [],
            "_model_module": "@jupyter-widgets/controls",
            "_model_module_version": "1.5.0",
            "_model_name": "HTMLModel",
            "_view_count": null,
            "_view_module": "@jupyter-widgets/controls",
            "_view_module_version": "1.5.0",
            "_view_name": "HTMLView",
            "description": "",
            "description_tooltip": null,
            "layout": "IPY_MODEL_5c44db32856146609a3fff3bd387acc1",
            "placeholder": "​",
            "style": "IPY_MODEL_e6f6be61f84f4c66932fe6d772766034",
            "value": " 528M/528M [00:04&lt;00:00, 130MB/s]"
          }
        },
        "de82008dd29f44308c66dde87bf5f4e4": {
          "model_module": "@jupyter-widgets/base",
          "model_name": "LayoutModel",
          "model_module_version": "1.2.0",
          "state": {
            "_model_module": "@jupyter-widgets/base",
            "_model_module_version": "1.2.0",
            "_model_name": "LayoutModel",
            "_view_count": null,
            "_view_module": "@jupyter-widgets/base",
            "_view_module_version": "1.2.0",
            "_view_name": "LayoutView",
            "align_content": null,
            "align_items": null,
            "align_self": null,
            "border": null,
            "bottom": null,
            "display": null,
            "flex": null,
            "flex_flow": null,
            "grid_area": null,
            "grid_auto_columns": null,
            "grid_auto_flow": null,
            "grid_auto_rows": null,
            "grid_column": null,
            "grid_gap": null,
            "grid_row": null,
            "grid_template_areas": null,
            "grid_template_columns": null,
            "grid_template_rows": null,
            "height": null,
            "justify_content": null,
            "justify_items": null,
            "left": null,
            "margin": null,
            "max_height": null,
            "max_width": null,
            "min_height": null,
            "min_width": null,
            "object_fit": null,
            "object_position": null,
            "order": null,
            "overflow": null,
            "overflow_x": null,
            "overflow_y": null,
            "padding": null,
            "right": null,
            "top": null,
            "visibility": null,
            "width": null
          }
        },
        "24eb768f6f27434aa115f55cfb2931f1": {
          "model_module": "@jupyter-widgets/base",
          "model_name": "LayoutModel",
          "model_module_version": "1.2.0",
          "state": {
            "_model_module": "@jupyter-widgets/base",
            "_model_module_version": "1.2.0",
            "_model_name": "LayoutModel",
            "_view_count": null,
            "_view_module": "@jupyter-widgets/base",
            "_view_module_version": "1.2.0",
            "_view_name": "LayoutView",
            "align_content": null,
            "align_items": null,
            "align_self": null,
            "border": null,
            "bottom": null,
            "display": null,
            "flex": null,
            "flex_flow": null,
            "grid_area": null,
            "grid_auto_columns": null,
            "grid_auto_flow": null,
            "grid_auto_rows": null,
            "grid_column": null,
            "grid_gap": null,
            "grid_row": null,
            "grid_template_areas": null,
            "grid_template_columns": null,
            "grid_template_rows": null,
            "height": null,
            "justify_content": null,
            "justify_items": null,
            "left": null,
            "margin": null,
            "max_height": null,
            "max_width": null,
            "min_height": null,
            "min_width": null,
            "object_fit": null,
            "object_position": null,
            "order": null,
            "overflow": null,
            "overflow_x": null,
            "overflow_y": null,
            "padding": null,
            "right": null,
            "top": null,
            "visibility": null,
            "width": null
          }
        },
        "399f1d6410aa4029a956da44a7c62e15": {
          "model_module": "@jupyter-widgets/controls",
          "model_name": "DescriptionStyleModel",
          "model_module_version": "1.5.0",
          "state": {
            "_model_module": "@jupyter-widgets/controls",
            "_model_module_version": "1.5.0",
            "_model_name": "DescriptionStyleModel",
            "_view_count": null,
            "_view_module": "@jupyter-widgets/base",
            "_view_module_version": "1.2.0",
            "_view_name": "StyleView",
            "description_width": ""
          }
        },
        "7c2b539bf1404c64b658df0ced00b99a": {
          "model_module": "@jupyter-widgets/base",
          "model_name": "LayoutModel",
          "model_module_version": "1.2.0",
          "state": {
            "_model_module": "@jupyter-widgets/base",
            "_model_module_version": "1.2.0",
            "_model_name": "LayoutModel",
            "_view_count": null,
            "_view_module": "@jupyter-widgets/base",
            "_view_module_version": "1.2.0",
            "_view_name": "LayoutView",
            "align_content": null,
            "align_items": null,
            "align_self": null,
            "border": null,
            "bottom": null,
            "display": null,
            "flex": null,
            "flex_flow": null,
            "grid_area": null,
            "grid_auto_columns": null,
            "grid_auto_flow": null,
            "grid_auto_rows": null,
            "grid_column": null,
            "grid_gap": null,
            "grid_row": null,
            "grid_template_areas": null,
            "grid_template_columns": null,
            "grid_template_rows": null,
            "height": null,
            "justify_content": null,
            "justify_items": null,
            "left": null,
            "margin": null,
            "max_height": null,
            "max_width": null,
            "min_height": null,
            "min_width": null,
            "object_fit": null,
            "object_position": null,
            "order": null,
            "overflow": null,
            "overflow_x": null,
            "overflow_y": null,
            "padding": null,
            "right": null,
            "top": null,
            "visibility": null,
            "width": null
          }
        },
        "87c3176d731a4f85b80d8a9b6a5c41c3": {
          "model_module": "@jupyter-widgets/controls",
          "model_name": "ProgressStyleModel",
          "model_module_version": "1.5.0",
          "state": {
            "_model_module": "@jupyter-widgets/controls",
            "_model_module_version": "1.5.0",
            "_model_name": "ProgressStyleModel",
            "_view_count": null,
            "_view_module": "@jupyter-widgets/base",
            "_view_module_version": "1.2.0",
            "_view_name": "StyleView",
            "bar_color": null,
            "description_width": ""
          }
        },
        "5c44db32856146609a3fff3bd387acc1": {
          "model_module": "@jupyter-widgets/base",
          "model_name": "LayoutModel",
          "model_module_version": "1.2.0",
          "state": {
            "_model_module": "@jupyter-widgets/base",
            "_model_module_version": "1.2.0",
            "_model_name": "LayoutModel",
            "_view_count": null,
            "_view_module": "@jupyter-widgets/base",
            "_view_module_version": "1.2.0",
            "_view_name": "LayoutView",
            "align_content": null,
            "align_items": null,
            "align_self": null,
            "border": null,
            "bottom": null,
            "display": null,
            "flex": null,
            "flex_flow": null,
            "grid_area": null,
            "grid_auto_columns": null,
            "grid_auto_flow": null,
            "grid_auto_rows": null,
            "grid_column": null,
            "grid_gap": null,
            "grid_row": null,
            "grid_template_areas": null,
            "grid_template_columns": null,
            "grid_template_rows": null,
            "height": null,
            "justify_content": null,
            "justify_items": null,
            "left": null,
            "margin": null,
            "max_height": null,
            "max_width": null,
            "min_height": null,
            "min_width": null,
            "object_fit": null,
            "object_position": null,
            "order": null,
            "overflow": null,
            "overflow_x": null,
            "overflow_y": null,
            "padding": null,
            "right": null,
            "top": null,
            "visibility": null,
            "width": null
          }
        },
        "e6f6be61f84f4c66932fe6d772766034": {
          "model_module": "@jupyter-widgets/controls",
          "model_name": "DescriptionStyleModel",
          "model_module_version": "1.5.0",
          "state": {
            "_model_module": "@jupyter-widgets/controls",
            "_model_module_version": "1.5.0",
            "_model_name": "DescriptionStyleModel",
            "_view_count": null,
            "_view_module": "@jupyter-widgets/base",
            "_view_module_version": "1.2.0",
            "_view_name": "StyleView",
            "description_width": ""
          }
        }
      }
    }
  },
  "nbformat": 4,
  "nbformat_minor": 5
}